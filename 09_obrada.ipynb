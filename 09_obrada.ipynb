{
 "cells": [
  {
   "cell_type": "markdown",
   "id": "c7fee49e-f154-4ffd-bd62-787220ed88bc",
   "metadata": {},
   "source": [
    "# Обрада и приказ табеларних података"
   ]
  },
  {
   "cell_type": "markdown",
   "id": "8a213138-11b7-4b17-b497-43a30e56fa05",
   "metadata": {},
   "source": [
    "Обраду, анализу и графички приказ података је тешко раздвојити. Све то углавном иде паралелно. У Пајтону постоји неколико најчешће коришћених библиотека које су усаглашене тако да објекти које користимо за обраду података имају функције за цртање, а функције за цртање враћају табеле и серије. Зато је то овде једна лекција."
   ]
  },
  {
   "cell_type": "markdown",
   "id": "b3a0ed7d-8592-4083-b504-eec3a95c9aa8",
   "metadata": {},
   "source": [
    "## Обрада табеларних података"
   ]
  },
  {
   "cell_type": "markdown",
   "id": "708d9541-f2ad-476a-9325-7f6a7a919ecb",
   "metadata": {},
   "source": [
    "Много тога за шта су нам потребни програмерско знање и труд при обради података у листама постаје једноставна примена готових функција када податке спакујемо у _DataFrame_. Библиотека _pandas_ омогућава да рад са табелама буде једноставан, брз и ефикасан. "
   ]
  },
  {
   "cell_type": "markdown",
   "id": "9c3c04bd-ece8-4aa5-876b-fb3f0d945bfd",
   "metadata": {},
   "source": [
    "### Учитавање табеле из датотеке"
   ]
  },
  {
   "cell_type": "markdown",
   "id": "50deaeae-433a-4c39-8bbc-085cd58f2d57",
   "metadata": {},
   "source": [
    "Податке најчешће чувамо у табелама. Чак су и базе података само колекције различитих табела. За поновну употребу табеле снимамо у датотеке (или фајлове, како их понекад зовемо). Те снимљене табеле касније учитавамо по потреби. Уобичајени формат датотека за снимање табела је CSV (енгл. _comma separated value_, тј. вредности одвојене зарезом). Библиотека _pandas_ има функције за учитавање и снимање табела. За учитавање користимо функцију `pd.read_csv()`. Aргумент ове функције је стринг са локацијом и називом датотеке, нпр. \"podaci/countries.csv\". Ова датотека се не налази у Пајтоновом радном директоријуму већ у поддиректоријуму _data_, због чега је потребно да то напишемо и да назив директоријума и датотеке раздвојимо косом цртом. Учитаћемо сада баш ту датотеку.  "
   ]
  },
  {
   "cell_type": "code",
   "execution_count": 1,
   "id": "a105f1b8-f8df-4b03-a233-2d6f9b0624e5",
   "metadata": {},
   "outputs": [],
   "source": [
    "import pandas as pd                # prvo uvozimo pandas biblioteku\n",
    "import matplotlib.pyplot as plt    # i biblioteku za crtanje grafika"
   ]
  },
  {
   "cell_type": "code",
   "execution_count": 2,
   "id": "62deedbb-5db3-41c6-9b68-fe121f47f65d",
   "metadata": {},
   "outputs": [],
   "source": [
    "dt = pd.read_csv('podaci/countries.csv')"
   ]
  },
  {
   "cell_type": "markdown",
   "id": "d64d8f53-6519-4118-adec-785e0a09d24a",
   "metadata": {},
   "source": [
    "При позивању функција из одређене библиотеке потребно је да наведемо ознаке библиотека. Зато није довољно да напишемо `read_csv()` већ морамо `pd.read_csv()`. При увожењу библиотека ми смо нагласили да ћемо користити скраћена имена уместо пуних. Користићемо `pd` уместо `pandas` и `plt` уместо `matplotlib.pyplot` што ће нам олакшати писање кôда."
   ]
  },
  {
   "cell_type": "markdown",
   "id": "bcd0724b-8577-46af-a4a2-dedd1f09ef6a",
   "metadata": {},
   "source": [
    "Садржај датотеке смо учитали и сместили у табелу (тачније променљиву типа _dataframe_) `dt`. Да бисмо видели шта је учитано, згодно је да прикажемо на екрану заглавље те табеле са првих неколико редова. За то нам служи функција `.head()`."
   ]
  },
  {
   "cell_type": "code",
   "execution_count": 3,
   "id": "335abe8a-6968-4028-9c3c-abc684c34219",
   "metadata": {},
   "outputs": [
    {
     "data": {
      "text/html": [
       "<div>\n",
       "<style scoped>\n",
       "    .dataframe tbody tr th:only-of-type {\n",
       "        vertical-align: middle;\n",
       "    }\n",
       "\n",
       "    .dataframe tbody tr th {\n",
       "        vertical-align: top;\n",
       "    }\n",
       "\n",
       "    .dataframe thead th {\n",
       "        text-align: right;\n",
       "    }\n",
       "</style>\n",
       "<table border=\"1\" class=\"dataframe\">\n",
       "  <thead>\n",
       "    <tr style=\"text-align: right;\">\n",
       "      <th></th>\n",
       "      <th>Country</th>\n",
       "      <th>Continent</th>\n",
       "      <th>Population</th>\n",
       "      <th>Area</th>\n",
       "    </tr>\n",
       "  </thead>\n",
       "  <tbody>\n",
       "    <tr>\n",
       "      <th>0</th>\n",
       "      <td>Afghanistan</td>\n",
       "      <td>Asia</td>\n",
       "      <td>31056997</td>\n",
       "      <td>647500</td>\n",
       "    </tr>\n",
       "    <tr>\n",
       "      <th>1</th>\n",
       "      <td>Albania</td>\n",
       "      <td>Europe</td>\n",
       "      <td>3581655</td>\n",
       "      <td>28748</td>\n",
       "    </tr>\n",
       "    <tr>\n",
       "      <th>2</th>\n",
       "      <td>Algeria</td>\n",
       "      <td>Africa</td>\n",
       "      <td>32930091</td>\n",
       "      <td>2381740</td>\n",
       "    </tr>\n",
       "    <tr>\n",
       "      <th>3</th>\n",
       "      <td>American Samoa</td>\n",
       "      <td>Oceania</td>\n",
       "      <td>57794</td>\n",
       "      <td>199</td>\n",
       "    </tr>\n",
       "    <tr>\n",
       "      <th>4</th>\n",
       "      <td>Andorra</td>\n",
       "      <td>Europe</td>\n",
       "      <td>71201</td>\n",
       "      <td>468</td>\n",
       "    </tr>\n",
       "  </tbody>\n",
       "</table>\n",
       "</div>"
      ],
      "text/plain": [
       "          Country Continent  Population     Area\n",
       "0     Afghanistan      Asia    31056997   647500\n",
       "1         Albania    Europe     3581655    28748\n",
       "2         Algeria    Africa    32930091  2381740\n",
       "3  American Samoa   Oceania       57794      199\n",
       "4         Andorra    Europe       71201      468"
      ]
     },
     "execution_count": 3,
     "metadata": {},
     "output_type": "execute_result"
    }
   ],
   "source": [
    "dt.head()"
   ]
  },
  {
   "cell_type": "markdown",
   "id": "da022400-81fb-49e8-80e2-49c903d8477d",
   "metadata": {},
   "source": [
    "У колони без имена на почетку са леве стране, тј. индексној колони стоје бројеви од 0 до _n_-1, при чему је _n_ број редова у табели. Свака табела мора да има индексну колону. То не морају да буду редни бројеви, али ако при учитавању табеле ништа не нагласимо, Пајтон ће сам да је направи. Индексна колона служи да се по њој позивају елементи. Елементи табеле су редови у табели. Тако је `dt[2]` ред у ком су подаци за Алжир. Свака колона у којој нема понављања вредности може да буде индексна, али се овде нећемо на томе задржавати."
   ]
  },
  {
   "cell_type": "markdown",
   "id": "cea20cb8-1b57-4004-bfea-ab46ee9e39a7",
   "metadata": {},
   "source": [
    "Видимо да су државе наведене по редовима, а да по колонама имамо основне податке о тим државама. У колони _Country_ је име државе, _Continent_ означава континент на ком се налази, _Population_ број становника, а _Area_ површину државе у квадратним километрима. Називе свих колона можемо да добијемо помоћу `dt.columns`."
   ]
  },
  {
   "cell_type": "code",
   "execution_count": 4,
   "id": "fff47c26-915d-41d5-954c-4edb9dddf351",
   "metadata": {},
   "outputs": [
    {
     "data": {
      "text/plain": [
       "Index(['Country', 'Continent', 'Population', 'Area'], dtype='object')"
      ]
     },
     "execution_count": 4,
     "metadata": {},
     "output_type": "execute_result"
    }
   ],
   "source": [
    "dt.columns"
   ]
  },
  {
   "cell_type": "markdown",
   "id": "7101b5f4-4f5e-48a3-a3af-29e67cfcebfa",
   "metadata": {},
   "source": [
    "Вредности које се налазе у одређеној колони се позивају тако што после имена табеле у угластим заграда наведемо име колоне под једноструким или двоструким наводницима. Да бисмо приказали колону са именима држава, написаћемо `dt['Country']` или `dt[\"Country\"]`."
   ]
  },
  {
   "cell_type": "code",
   "execution_count": 5,
   "id": "30b9c5c8-3db3-4e79-9a29-f82b032eeae0",
   "metadata": {},
   "outputs": [
    {
     "data": {
      "text/plain": [
       "0         Afghanistan\n",
       "1             Albania\n",
       "2             Algeria\n",
       "3      American Samoa\n",
       "4             Andorra\n",
       "            ...      \n",
       "222         West Bank\n",
       "223    Western Sahara\n",
       "224             Yemen\n",
       "225            Zambia\n",
       "226          Zimbabwe\n",
       "Name: Country, Length: 227, dtype: object"
      ]
     },
     "execution_count": 5,
     "metadata": {},
     "output_type": "execute_result"
    }
   ],
   "source": [
    "dt['Country']"
   ]
  },
  {
   "cell_type": "markdown",
   "id": "6922b12e-0ecb-4b9e-86a4-86bda40fa5c2",
   "metadata": {},
   "source": [
    "Ако хоћете да видите само део ове листе, користите _слајсове_. Са `[:10]` ћете нпр. добити првих 10, а са `[10:20]` других 10 елемената колоне."
   ]
  },
  {
   "cell_type": "code",
   "execution_count": 6,
   "id": "ec21ca65-8501-4e24-bff8-95af226a747a",
   "metadata": {},
   "outputs": [
    {
     "data": {
      "text/plain": [
       "10           Aruba\n",
       "11       Australia\n",
       "12         Austria\n",
       "13      Azerbaijan\n",
       "14    Bahamas, The\n",
       "15         Bahrain\n",
       "16      Bangladesh\n",
       "17        Barbados\n",
       "18         Belarus\n",
       "19         Belgium\n",
       "Name: Country, dtype: object"
      ]
     },
     "execution_count": 6,
     "metadata": {},
     "output_type": "execute_result"
    }
   ],
   "source": [
    "dt['Country'][10:20]"
   ]
  },
  {
   "cell_type": "markdown",
   "id": "9540105e-797b-496e-a541-ced045928a11",
   "metadata": {},
   "source": [
    "### Додавање нових колона"
   ]
  },
  {
   "cell_type": "markdown",
   "id": "373ddca1-f372-46db-8698-c6a41bd11374",
   "metadata": {},
   "source": [
    "Табеле могу да се мењају, да се табели додају и бришу колоне и врсте, као и да се мењају вредности које су већ у табели. Ако бисмо хтели да додамо колону у којој ће бити густина насељености, треба само да израчунамо тражене вредности и ставимо их у посебну колону. Довољно је да, још увек непостојећој, колони са новим именом, нпр. _Density_, придружимо резултат тог израчунавања."
   ]
  },
  {
   "cell_type": "code",
   "execution_count": 7,
   "id": "8acd8884-69f7-4dfe-bb71-ccaa4525fe7b",
   "metadata": {},
   "outputs": [],
   "source": [
    "dt['Density']=dt['Population']/dt['Area']"
   ]
  },
  {
   "cell_type": "markdown",
   "id": "ad0e3c33-06ff-417f-91a4-b24c203e07e7",
   "metadata": {},
   "source": [
    ">Напомена: Приметите како једноставно можемо да поделимо све вредности једне колоне са одговарајућим вредностима друге колоне. То са листама не можемо да радимо, али ако користимо _pandas_ табеле, онда ће колоне те табеле бити променљиве типа _Series_. За серије су основне математичке операције дефинисане тако да операције вршимо за сваки елемент једне серије са одговарајућим елементом из друге. Некад је згодно листе претворити у серије како бисмо могли да рачунамо на овај начин. То би изгледало отприлике овако: \n",
    ">\n",
    ">```\n",
    "lista=[1,2,3]\n",
    "serija=pd.Series(lista)\n",
    "serija_na_kvadrat=serija*serija\n",
    "```"
   ]
  },
  {
   "cell_type": "markdown",
   "id": "ff0f4ed8-afff-4a7b-9a8a-9ab9ab032ce7",
   "metadata": {},
   "source": [
    "Нова колона са именом _Density_ је аутоматски додата чим смо је израчунали. Можемо да погледамо како изгледа заглавље табеле и тако проверимо да ли је нова колона додата како треба."
   ]
  },
  {
   "cell_type": "code",
   "execution_count": 8,
   "id": "8f208c6a-0215-44da-9bc9-097c211f7a9f",
   "metadata": {},
   "outputs": [
    {
     "data": {
      "text/html": [
       "<div>\n",
       "<style scoped>\n",
       "    .dataframe tbody tr th:only-of-type {\n",
       "        vertical-align: middle;\n",
       "    }\n",
       "\n",
       "    .dataframe tbody tr th {\n",
       "        vertical-align: top;\n",
       "    }\n",
       "\n",
       "    .dataframe thead th {\n",
       "        text-align: right;\n",
       "    }\n",
       "</style>\n",
       "<table border=\"1\" class=\"dataframe\">\n",
       "  <thead>\n",
       "    <tr style=\"text-align: right;\">\n",
       "      <th></th>\n",
       "      <th>Country</th>\n",
       "      <th>Continent</th>\n",
       "      <th>Population</th>\n",
       "      <th>Area</th>\n",
       "      <th>Density</th>\n",
       "    </tr>\n",
       "  </thead>\n",
       "  <tbody>\n",
       "    <tr>\n",
       "      <th>0</th>\n",
       "      <td>Afghanistan</td>\n",
       "      <td>Asia</td>\n",
       "      <td>31056997</td>\n",
       "      <td>647500</td>\n",
       "      <td>47.964474</td>\n",
       "    </tr>\n",
       "    <tr>\n",
       "      <th>1</th>\n",
       "      <td>Albania</td>\n",
       "      <td>Europe</td>\n",
       "      <td>3581655</td>\n",
       "      <td>28748</td>\n",
       "      <td>124.587971</td>\n",
       "    </tr>\n",
       "    <tr>\n",
       "      <th>2</th>\n",
       "      <td>Algeria</td>\n",
       "      <td>Africa</td>\n",
       "      <td>32930091</td>\n",
       "      <td>2381740</td>\n",
       "      <td>13.826065</td>\n",
       "    </tr>\n",
       "    <tr>\n",
       "      <th>3</th>\n",
       "      <td>American Samoa</td>\n",
       "      <td>Oceania</td>\n",
       "      <td>57794</td>\n",
       "      <td>199</td>\n",
       "      <td>290.422111</td>\n",
       "    </tr>\n",
       "    <tr>\n",
       "      <th>4</th>\n",
       "      <td>Andorra</td>\n",
       "      <td>Europe</td>\n",
       "      <td>71201</td>\n",
       "      <td>468</td>\n",
       "      <td>152.138889</td>\n",
       "    </tr>\n",
       "  </tbody>\n",
       "</table>\n",
       "</div>"
      ],
      "text/plain": [
       "          Country Continent  Population     Area     Density\n",
       "0     Afghanistan      Asia    31056997   647500   47.964474\n",
       "1         Albania    Europe     3581655    28748  124.587971\n",
       "2         Algeria    Africa    32930091  2381740   13.826065\n",
       "3  American Samoa   Oceania       57794      199  290.422111\n",
       "4         Andorra    Europe       71201      468  152.138889"
      ]
     },
     "execution_count": 8,
     "metadata": {},
     "output_type": "execute_result"
    }
   ],
   "source": [
    "dt.head()"
   ]
  },
  {
   "cell_type": "markdown",
   "id": "4edef112-7be6-47b4-ac6e-1fc227c0f725",
   "metadata": {},
   "source": [
    "### Сортирање"
   ]
  },
  {
   "cell_type": "markdown",
   "id": "eb4161ad-b920-401f-b052-c0b79e97f5aa",
   "metadata": {},
   "source": [
    "Библиотека _pandas_ има прегршт корисних функција за рад са табелама и њиховим колонама. Функција `.sort_values()` сортира све вредности у одређеној колони и прерасподељује садржај осталих колона у складу са тим. Ако хоћемо да видимо које то државе имају најмању и највећу густину насељености, можемо да сортирамо вредности по тој колони и погледамо које се државе налази на почетку и крају табеле.  "
   ]
  },
  {
   "cell_type": "code",
   "execution_count": 9,
   "id": "6e67c879-a079-42cc-bdbc-acc804db2e25",
   "metadata": {},
   "outputs": [
    {
     "data": {
      "text/html": [
       "<div>\n",
       "<style scoped>\n",
       "    .dataframe tbody tr th:only-of-type {\n",
       "        vertical-align: middle;\n",
       "    }\n",
       "\n",
       "    .dataframe tbody tr th {\n",
       "        vertical-align: top;\n",
       "    }\n",
       "\n",
       "    .dataframe thead th {\n",
       "        text-align: right;\n",
       "    }\n",
       "</style>\n",
       "<table border=\"1\" class=\"dataframe\">\n",
       "  <thead>\n",
       "    <tr style=\"text-align: right;\">\n",
       "      <th></th>\n",
       "      <th>Country</th>\n",
       "      <th>Continent</th>\n",
       "      <th>Population</th>\n",
       "      <th>Area</th>\n",
       "      <th>Density</th>\n",
       "    </tr>\n",
       "  </thead>\n",
       "  <tbody>\n",
       "    <tr>\n",
       "      <th>80</th>\n",
       "      <td>Greenland</td>\n",
       "      <td>North America</td>\n",
       "      <td>56361</td>\n",
       "      <td>2166086</td>\n",
       "      <td>0.026020</td>\n",
       "    </tr>\n",
       "    <tr>\n",
       "      <th>223</th>\n",
       "      <td>Western Sahara</td>\n",
       "      <td>Africa</td>\n",
       "      <td>273008</td>\n",
       "      <td>266000</td>\n",
       "      <td>1.026346</td>\n",
       "    </tr>\n",
       "    <tr>\n",
       "      <th>139</th>\n",
       "      <td>Mongolia</td>\n",
       "      <td>Asia</td>\n",
       "      <td>2832224</td>\n",
       "      <td>1564116</td>\n",
       "      <td>1.810751</td>\n",
       "    </tr>\n",
       "    <tr>\n",
       "      <th>70</th>\n",
       "      <td>French Guiana</td>\n",
       "      <td>South America</td>\n",
       "      <td>199509</td>\n",
       "      <td>91000</td>\n",
       "      <td>2.192407</td>\n",
       "    </tr>\n",
       "    <tr>\n",
       "      <th>143</th>\n",
       "      <td>Namibia</td>\n",
       "      <td>Africa</td>\n",
       "      <td>2044147</td>\n",
       "      <td>825418</td>\n",
       "      <td>2.476499</td>\n",
       "    </tr>\n",
       "    <tr>\n",
       "      <th>...</th>\n",
       "      <td>...</td>\n",
       "      <td>...</td>\n",
       "      <td>...</td>\n",
       "      <td>...</td>\n",
       "      <td>...</td>\n",
       "    </tr>\n",
       "    <tr>\n",
       "      <th>78</th>\n",
       "      <td>Gibraltar</td>\n",
       "      <td>Europe</td>\n",
       "      <td>27928</td>\n",
       "      <td>7</td>\n",
       "      <td>3989.714286</td>\n",
       "    </tr>\n",
       "    <tr>\n",
       "      <th>91</th>\n",
       "      <td>Hong Kong</td>\n",
       "      <td>Asia</td>\n",
       "      <td>6940432</td>\n",
       "      <td>1092</td>\n",
       "      <td>6355.706960</td>\n",
       "    </tr>\n",
       "    <tr>\n",
       "      <th>184</th>\n",
       "      <td>Singapore</td>\n",
       "      <td>Asia</td>\n",
       "      <td>4492150</td>\n",
       "      <td>693</td>\n",
       "      <td>6482.178932</td>\n",
       "    </tr>\n",
       "    <tr>\n",
       "      <th>122</th>\n",
       "      <td>Macau</td>\n",
       "      <td>Asia</td>\n",
       "      <td>453125</td>\n",
       "      <td>28</td>\n",
       "      <td>16183.035714</td>\n",
       "    </tr>\n",
       "    <tr>\n",
       "      <th>138</th>\n",
       "      <td>Monaco</td>\n",
       "      <td>Europe</td>\n",
       "      <td>32543</td>\n",
       "      <td>2</td>\n",
       "      <td>16271.500000</td>\n",
       "    </tr>\n",
       "  </tbody>\n",
       "</table>\n",
       "<p>227 rows × 5 columns</p>\n",
       "</div>"
      ],
      "text/plain": [
       "            Country      Continent  Population     Area       Density\n",
       "80        Greenland  North America       56361  2166086      0.026020\n",
       "223  Western Sahara         Africa      273008   266000      1.026346\n",
       "139        Mongolia           Asia     2832224  1564116      1.810751\n",
       "70    French Guiana  South America      199509    91000      2.192407\n",
       "143         Namibia         Africa     2044147   825418      2.476499\n",
       "..              ...            ...         ...      ...           ...\n",
       "78        Gibraltar         Europe       27928        7   3989.714286\n",
       "91        Hong Kong           Asia     6940432     1092   6355.706960\n",
       "184       Singapore           Asia     4492150      693   6482.178932\n",
       "122           Macau           Asia      453125       28  16183.035714\n",
       "138          Monaco         Europe       32543        2  16271.500000\n",
       "\n",
       "[227 rows x 5 columns]"
      ]
     },
     "execution_count": 9,
     "metadata": {},
     "output_type": "execute_result"
    }
   ],
   "source": [
    "dt.sort_values('Density')"
   ]
  },
  {
   "cell_type": "markdown",
   "id": "82968032-c68f-40cd-a926-feba846e22ca",
   "metadata": {},
   "source": [
    "Табеле са великим бројем редова нису прегледне чак ни када их сортирамо. Зато је пожељно да направимо графички приказ који би нам помогао у тумачењу података. Овде ћемо дати примере два типа дијаграма (стубичасти дијаграм и хистограм) за приказ колоне са густином насељености и површином држава. "
   ]
  },
  {
   "cell_type": "markdown",
   "id": "aa69a4a2-ea30-4223-959b-5b4886e53d3d",
   "metadata": {},
   "source": [
    "Прво дајемо стубичасти дијаграм. Аргументи функције су ознаке стубића (име државе) и дужина стубића (густина насељености). Пошто држава у табели има преко 200, тешко је направити прегледан график са свим државама. Зато смо узели само двадесет држава са највећом густином насељености. Због прегледности исписа згодније нам је да стубићи буду хоризонтални. Зато користимо функцију `.barh()` уместо `.bar()`. Пробајте и са `.bar()` да видите како би изгледало."
   ]
  },
  {
   "cell_type": "code",
   "execution_count": 10,
   "id": "1cb8b1ea-6665-4113-9b95-d17e01a345fc",
   "metadata": {},
   "outputs": [
    {
     "data": {
      "image/png": "[encoded data removed]",
      "text/plain": [
       "<Figure size 432x288 with 1 Axes>"
      ]
     },
     "metadata": {
      "needs_background": "light"
     },
     "output_type": "display_data"
    }
   ],
   "source": [
    "spd=dt.sort_values('Density')                # sortiramo tabelu po gustini naseljenosti i dodeljujemo je novoj tabeli\n",
    "spd20=spd[-20:]                              # zbog preglednosti, pomoću slajsa, izdvajamo samo poslednjih 20 redova\n",
    "plt.barh(spd20['Country'],spd20['Density']); # crtamo horizontalni stubičasti dijagram "
   ]
  },
  {
   "cell_type": "markdown",
   "id": "f17c57c2-2767-4c63-99fc-3a14ad956c7b",
   "metadata": {},
   "source": [
    "Други важан графикон за приказ расподеле података је хистограм. Он нам даје приказ броја држава по одређеним интервалима вредности за површину држава. Функција `.hist()` дели интервал од најмање до највеће вредности на десет једнаких под-интервала уколико не наведемо конкретан број као други аргумент функције. У овом примеру распон од 0 до 20 милиона km² (што задајемо са `range=(0,2e7)`) делимо на 20 једнаких интервала и пребројавамо колико држава има у сваком од њих. У првом интервалу, од 0 до 100 000 квадратних килoмeтара, има скоро 200 држава. И Србија је међу њима. Ретке су оне које имају површину већу од 300 000 km²."
   ]
  },
  {
   "cell_type": "code",
   "execution_count": 11,
   "id": "a43b5969-5b18-4eff-98ba-5c30d2b6f181",
   "metadata": {},
   "outputs": [
    {
     "data": {
      "image/png": "[encoded data removed]",
      "text/plain": [
       "<Figure size 432x288 with 1 Axes>"
      ]
     },
     "metadata": {
      "needs_background": "light"
     },
     "output_type": "display_data"
    }
   ],
   "source": [
    "plt.hist(spd['Area'],20,range=(0,2e7))\n",
    "plt.grid()                               # crtanje mreže na grafikonu"
   ]
  },
  {
   "cell_type": "markdown",
   "id": "abb2a821-0676-44df-8801-bec437e16a11",
   "metadata": {},
   "source": [
    "### Филтрирање табеле"
   ]
  },
  {
   "cell_type": "markdown",
   "id": "259e962f-9695-4128-bff3-989a6db3aa62",
   "metadata": {},
   "source": [
    "Филтрирање значи да од целе табеле желимо да издвојимо само оне редове који нас интересују. За филтрирање података у табели користимо критеријуме, односно логичке исказе као што је нпр. `dt['Continent']==\"North America\"`. Овде проверавамо које су вредности у колони `dt['Continent']` једнаке стрингу `\"North America\"`. У угласте заграде после назива табеле треба унети тражени критеријум. На тај начин од целе почетне табеле издвајамо само онај део табеле где је критеријум испуњен."
   ]
  },
  {
   "cell_type": "markdown",
   "id": "db41fb27-fc8d-49f9-9547-3600f0a5d073",
   "metadata": {},
   "source": [
    "На пример, овако можемо да издвојимо само државе које се налазе у Северној Америци."
   ]
  },
  {
   "cell_type": "code",
   "execution_count": 12,
   "id": "00f5a26f-135d-40cb-872f-2119738a026d",
   "metadata": {},
   "outputs": [
    {
     "data": {
      "text/html": [
       "<div>\n",
       "<style scoped>\n",
       "    .dataframe tbody tr th:only-of-type {\n",
       "        vertical-align: middle;\n",
       "    }\n",
       "\n",
       "    .dataframe tbody tr th {\n",
       "        vertical-align: top;\n",
       "    }\n",
       "\n",
       "    .dataframe thead th {\n",
       "        text-align: right;\n",
       "    }\n",
       "</style>\n",
       "<table border=\"1\" class=\"dataframe\">\n",
       "  <thead>\n",
       "    <tr style=\"text-align: right;\">\n",
       "      <th></th>\n",
       "      <th>Country</th>\n",
       "      <th>Continent</th>\n",
       "      <th>Population</th>\n",
       "      <th>Area</th>\n",
       "      <th>Density</th>\n",
       "    </tr>\n",
       "  </thead>\n",
       "  <tbody>\n",
       "    <tr>\n",
       "      <th>22</th>\n",
       "      <td>Bermuda</td>\n",
       "      <td>North America</td>\n",
       "      <td>65773</td>\n",
       "      <td>53</td>\n",
       "      <td>1241.000000</td>\n",
       "    </tr>\n",
       "    <tr>\n",
       "      <th>36</th>\n",
       "      <td>Canada</td>\n",
       "      <td>North America</td>\n",
       "      <td>33098932</td>\n",
       "      <td>9984670</td>\n",
       "      <td>3.314975</td>\n",
       "    </tr>\n",
       "    <tr>\n",
       "      <th>80</th>\n",
       "      <td>Greenland</td>\n",
       "      <td>North America</td>\n",
       "      <td>56361</td>\n",
       "      <td>2166086</td>\n",
       "      <td>0.026020</td>\n",
       "    </tr>\n",
       "    <tr>\n",
       "      <th>174</th>\n",
       "      <td>St Pierre &amp; Miquelon</td>\n",
       "      <td>North America</td>\n",
       "      <td>7026</td>\n",
       "      <td>242</td>\n",
       "      <td>29.033058</td>\n",
       "    </tr>\n",
       "    <tr>\n",
       "      <th>214</th>\n",
       "      <td>United States</td>\n",
       "      <td>North America</td>\n",
       "      <td>298444215</td>\n",
       "      <td>9631420</td>\n",
       "      <td>30.986523</td>\n",
       "    </tr>\n",
       "  </tbody>\n",
       "</table>\n",
       "</div>"
      ],
      "text/plain": [
       "                  Country      Continent  Population     Area      Density\n",
       "22                Bermuda  North America       65773       53  1241.000000\n",
       "36                 Canada  North America    33098932  9984670     3.314975\n",
       "80              Greenland  North America       56361  2166086     0.026020\n",
       "174  St Pierre & Miquelon  North America        7026      242    29.033058\n",
       "214         United States  North America   298444215  9631420    30.986523"
      ]
     },
     "execution_count": 12,
     "metadata": {},
     "output_type": "execute_result"
    }
   ],
   "source": [
    "dt[dt['Continent']==\"North America\"]"
   ]
  },
  {
   "cell_type": "markdown",
   "id": "7a88248e-1470-4ece-af9d-8efe6b013833",
   "metadata": {},
   "source": [
    "Слично можемо да издвојимо све државе са мање од 20000 становника. Шта мислите колико их има?"
   ]
  },
  {
   "cell_type": "code",
   "execution_count": 13,
   "id": "f5cf3f4c-be51-4d7c-9acd-651c8a028b04",
   "metadata": {},
   "outputs": [
    {
     "data": {
      "text/html": [
       "<div>\n",
       "<style scoped>\n",
       "    .dataframe tbody tr th:only-of-type {\n",
       "        vertical-align: middle;\n",
       "    }\n",
       "\n",
       "    .dataframe tbody tr th {\n",
       "        vertical-align: top;\n",
       "    }\n",
       "\n",
       "    .dataframe thead th {\n",
       "        text-align: right;\n",
       "    }\n",
       "</style>\n",
       "<table border=\"1\" class=\"dataframe\">\n",
       "  <thead>\n",
       "    <tr style=\"text-align: right;\">\n",
       "      <th></th>\n",
       "      <th>Country</th>\n",
       "      <th>Continent</th>\n",
       "      <th>Population</th>\n",
       "      <th>Area</th>\n",
       "      <th>Density</th>\n",
       "    </tr>\n",
       "  </thead>\n",
       "  <tbody>\n",
       "    <tr>\n",
       "      <th>6</th>\n",
       "      <td>Anguilla</td>\n",
       "      <td>South America</td>\n",
       "      <td>13477</td>\n",
       "      <td>102</td>\n",
       "      <td>132.127451</td>\n",
       "    </tr>\n",
       "    <tr>\n",
       "      <th>140</th>\n",
       "      <td>Montserrat</td>\n",
       "      <td>South America</td>\n",
       "      <td>9439</td>\n",
       "      <td>102</td>\n",
       "      <td>92.539216</td>\n",
       "    </tr>\n",
       "    <tr>\n",
       "      <th>144</th>\n",
       "      <td>Nauru</td>\n",
       "      <td>Oceania</td>\n",
       "      <td>13287</td>\n",
       "      <td>21</td>\n",
       "      <td>632.714286</td>\n",
       "    </tr>\n",
       "    <tr>\n",
       "      <th>171</th>\n",
       "      <td>Saint Helena</td>\n",
       "      <td>Africa</td>\n",
       "      <td>7502</td>\n",
       "      <td>413</td>\n",
       "      <td>18.164649</td>\n",
       "    </tr>\n",
       "    <tr>\n",
       "      <th>174</th>\n",
       "      <td>St Pierre &amp; Miquelon</td>\n",
       "      <td>North America</td>\n",
       "      <td>7026</td>\n",
       "      <td>242</td>\n",
       "      <td>29.033058</td>\n",
       "    </tr>\n",
       "    <tr>\n",
       "      <th>209</th>\n",
       "      <td>Tuvalu</td>\n",
       "      <td>Oceania</td>\n",
       "      <td>11810</td>\n",
       "      <td>26</td>\n",
       "      <td>454.230769</td>\n",
       "    </tr>\n",
       "    <tr>\n",
       "      <th>221</th>\n",
       "      <td>Wallis and Futuna</td>\n",
       "      <td>Oceania</td>\n",
       "      <td>16025</td>\n",
       "      <td>274</td>\n",
       "      <td>58.485401</td>\n",
       "    </tr>\n",
       "  </tbody>\n",
       "</table>\n",
       "</div>"
      ],
      "text/plain": [
       "                  Country      Continent  Population  Area     Density\n",
       "6                Anguilla  South America       13477   102  132.127451\n",
       "140            Montserrat  South America        9439   102   92.539216\n",
       "144                 Nauru        Oceania       13287    21  632.714286\n",
       "171          Saint Helena         Africa        7502   413   18.164649\n",
       "174  St Pierre & Miquelon  North America        7026   242   29.033058\n",
       "209                Tuvalu        Oceania       11810    26  454.230769\n",
       "221     Wallis and Futuna        Oceania       16025   274   58.485401"
      ]
     },
     "execution_count": 13,
     "metadata": {},
     "output_type": "execute_result"
    }
   ],
   "source": [
    "dt[dt['Population']<20000]"
   ]
  },
  {
   "cell_type": "markdown",
   "id": "d8c134b5-f55b-4c42-b0b1-17bb0411d137",
   "metadata": {},
   "source": [
    "__Задатак 1__: Испишите податаке из табеле `dt` за европске земље са више од 20 милиона становника."
   ]
  },
  {
   "cell_type": "markdown",
   "id": "371db542-6789-4399-8703-cdb884a32e01",
   "metadata": {},
   "source": [
    "### Записивање табеле у датотеку"
   ]
  },
  {
   "cell_type": "markdown",
   "id": "dcd406c2-203b-4549-98cf-466a57bc5648",
   "metadata": {},
   "source": [
    "Измењену табелу, за почетак, имамо само у меморији рачунара. Ако хоћемо да сачувамо те измене, потребно је да снимимо табелу у датотеку. Функција коју користимо за ту намену је `.to_csv()`. Аргумент функције је назив датотеке у коју ћемо да снимимо табелу."
   ]
  },
  {
   "cell_type": "code",
   "execution_count": 14,
   "id": "ac03b086-a86e-407c-8763-ad9f88fa2b2c",
   "metadata": {},
   "outputs": [],
   "source": [
    "dt.to_csv('podaci/countries2.csv')"
   ]
  },
  {
   "cell_type": "markdown",
   "id": "6ae179fb-59e8-404d-9820-ee3eb1b732c2",
   "metadata": {},
   "source": [
    "## Статистички и графички приказ табеларних података"
   ]
  },
  {
   "cell_type": "markdown",
   "id": "697819ae-fe4c-4378-9066-bd24b3094b07",
   "metadata": {},
   "source": [
    "Статистичко и графичко приказивање података тешко је раздвојити. Велики број података, без обзира да ли их је 20 или 20 милијарди, приказујемо у сведеном облику користећи мањи број карактеристичних вредности или графички приказ расподела и вредности података. Не постоји \"најбољи начин\" за приказивање података. Избор начина приказа зависи од природе податка. Морамо да их познајемо да бисмо знали шта да ставимо у први план. Почећемо са једноставнијим примерима – са низовима података."
   ]
  },
  {
   "cell_type": "markdown",
   "id": "6c333515-5634-443a-af01-b7f12d883d4f",
   "metadata": {},
   "source": [
    "### Колоне са номиналним подацима"
   ]
  },
  {
   "cell_type": "markdown",
   "id": "663976e8-2df5-49fa-b52e-c5b6c1995124",
   "metadata": {},
   "source": [
    "У табели типа _dataframe_ можемо да имамо различите типове података. Битно је само да су у једној колони сви подаци истог типа. Два најважнија типа података, заправо групе типова су номинални (или категоријални) и нумерички подаци. Номинални подаци означавају нека имена, називе или кратке текстуалне описе. Имена држава представљају номиналне податке. Чак и када се означавају бројем (нпр. број зграде у улици), ти подаци остају номинални. Са тим бројевима се ништа не рачуна. Већина номиналних података су стрингови који означавају различите објекте. Једина статистика коју можемо да радимо са номиналним подацима јесте да пребројимо колико их има, тј. да видимо колико се често појављују."
   ]
  },
  {
   "cell_type": "markdown",
   "id": "58ad3031-edb8-4a45-a56d-07eb4b473738",
   "metadata": {},
   "source": [
    "У табели `dt` имамо колону са именом континента на ком се држава налази. Ако бисмо пребројали колико се пута појављују ови подаци, видели бисмо колико држава имамо на ком континенту. Библиотека _pandas_ нам омогућава да то радимо помоћу функције `.value_counts()` коју применимо на одговарајућу колону."
   ]
  },
  {
   "cell_type": "code",
   "execution_count": 15,
   "id": "63613eb5-8462-428a-a339-b24590d39a91",
   "metadata": {},
   "outputs": [
    {
     "name": "stdout",
     "output_type": "stream",
     "text": [
      "Africa           57\n",
      "Asia             52\n",
      "Europe           47\n",
      "South America    45\n",
      "Oceania          21\n",
      "North America     5\n",
      "Name: Continent, dtype: int64\n"
     ]
    }
   ],
   "source": [
    "vc=dt['Continent'].value_counts()\n",
    "print(vc)"
   ]
  },
  {
   "cell_type": "markdown",
   "id": "43b466c5-a133-462a-b511-e38588c79ec0",
   "metadata": {},
   "source": [
    "Видимо да је резултат функције `.value_counts()` серија у којој су наведени континенти са бројем држава које тај континент има. Серије су у суштини табеле са само једном колоном. Као што табеле осим регуларних колона имају и индексну колону у којој су имена редова, тако и серије имају низ са вредностима и индексни низ у ком су имена редова, тј. елемената у серији. Конкретно, серија `vc` има низ са вредностима `vc.values` (број држава на континенту) и индексни низ `vc.index` (име континента)."
   ]
  },
  {
   "cell_type": "code",
   "execution_count": 16,
   "id": "dcbb8854-fcf5-42fb-8aac-bc7a1732049f",
   "metadata": {},
   "outputs": [
    {
     "data": {
      "text/plain": [
       "array([57, 52, 47, 45, 21,  5], dtype=int64)"
      ]
     },
     "execution_count": 16,
     "metadata": {},
     "output_type": "execute_result"
    }
   ],
   "source": [
    "vc.values"
   ]
  },
  {
   "cell_type": "code",
   "execution_count": 17,
   "id": "ab1045df-116c-49d0-819c-46c923bf60ff",
   "metadata": {},
   "outputs": [
    {
     "data": {
      "text/plain": [
       "Index(['Africa', 'Asia', 'Europe', 'South America', 'Oceania',\n",
       "       'North America'],\n",
       "      dtype='object')"
      ]
     },
     "execution_count": 17,
     "metadata": {},
     "output_type": "execute_result"
    }
   ],
   "source": [
    "vc.index"
   ]
  },
  {
   "cell_type": "markdown",
   "id": "19f4ace1-6706-4492-a268-35e4a2f7a650",
   "metadata": {},
   "source": [
    "### Колоне са нумеричким подацима"
   ]
  },
  {
   "cell_type": "markdown",
   "id": "fd75fb52-9284-4342-8971-153da01b3773",
   "metadata": {},
   "source": [
    "Бројеви могу да се пореде међусобно по величини. Са бројевима могу да се раде и рачунске операције. Због тога су могућности за обраду и анализу нумеричких низова много веће него за номиналне. Наш основни задатак је да цео низ података што једноставније и разумљивије представимо. Низ података често поједностављено приказујемо помоћу карактеристичних вредности, као што је нпр. средња вредност. Други важан начин је да цео низ података прикажемо графички како бисмо податке могли да \"видимо\".  "
   ]
  },
  {
   "cell_type": "markdown",
   "id": "5ecafb68-083f-4ce1-9a32-abd34082b5b1",
   "metadata": {},
   "source": [
    "### Описивање низова података преко карактеристичних вредности"
   ]
  },
  {
   "cell_type": "markdown",
   "id": "91958af9-aace-4907-96aa-98d53d9c7815",
   "metadata": {},
   "source": [
    "Шта је просек? Просек није дефинисан као посебна математичка функција. Просек је било која вредност (као што су средња вредност, мод или медијана) која се узима за карактеристичну вредност једног скупа различитих података. Кад се каже просек, најчешће се мисли на средњу вредност (аритметичку средину), али просек може да буде и медијана или мод. Врло је важно да се нагласи шта подразумевамо под просеком. Конкретно, просек оцена у школи је њихова аритметичка средина."
   ]
  },
  {
   "cell_type": "markdown",
   "id": "a09cbd65-359e-49c7-ad8d-3b4ea20c19f4",
   "metadata": {},
   "source": [
    "За рачунање средње вредности се користи _pandas_ функција `.mean()` која се примењује на нумеричку колону у табели. Користећи табелу са подацима о државама израчунаћемо средњу вредност површина држава."
   ]
  },
  {
   "cell_type": "code",
   "execution_count": 18,
   "id": "6e1b6f6f-ad3f-490f-a53b-3e4d73c71899",
   "metadata": {},
   "outputs": [
    {
     "data": {
      "text/plain": [
       "598226.9559471365"
      ]
     },
     "execution_count": 18,
     "metadata": {},
     "output_type": "execute_result"
    }
   ],
   "source": [
    "dt['Area'].mean()"
   ]
  },
  {
   "cell_type": "markdown",
   "id": "15334186-8c7d-490b-84aa-cc2c2d275158",
   "metadata": {},
   "source": [
    "Средња вредност површина свих држава је приближно 598 000 km². Толика би била површина сваке појединачне државе на свету када би територија била равномерно распоређена. Ми, међутим, знамо да постоје минијатурне државе са по неколико квадратних километра, док са друге стране имамо Русију са 17 милиона km². Шта нам говори средња вредност? Да ли је површина типичне државе на овој планети?"
   ]
  },
  {
   "cell_type": "markdown",
   "id": "22bafd6e-a322-408b-af18-22825ed06f5f",
   "metadata": {},
   "source": [
    "Ако погледамо хистограм површине држава, видећемо да је највише малих држава, а да су врло ретке оне са више милиона km². Држава са површином 598 000 km² би била заста велика. Не рачунајући Русију, само би Украјина од европских држава имала већу површину. То свакако не би била типична држава. Од ње би 45 држава биле веће, док би чак 182 биле мање. Боља мера за типичну површину државе би била да има подједнак број држава које имају већу и држава које имају мању површину. Пошто имамо 227 држава, она која се налази на 114 месту по површини одговара том критеријуму."
   ]
  },
  {
   "cell_type": "markdown",
   "id": "837b72d5-ff5e-41f7-9d56-f0a210169b6c",
   "metadata": {},
   "source": [
    "Да бисмо видели која је 114 држава по површини, сортираћемо табелу `dt` тако да не буде у растућем већ у опадајућем редоследу (`acdending=False`) и тако да занемари старе индексе и постави нове према (`ignore_index=True`). Онда ћемо помоћу _слајса_ приказати редове од 112 до 114, који због тога што први ред има индекс 0, одговарају државама са 113, 114. и 115. највећом површином."
   ]
  },
  {
   "cell_type": "code",
   "execution_count": 19,
   "id": "5a7ed004-b8bd-421d-8d0a-b2cb5af7a970",
   "metadata": {},
   "outputs": [
    {
     "data": {
      "text/html": [
       "<div>\n",
       "<style scoped>\n",
       "    .dataframe tbody tr th:only-of-type {\n",
       "        vertical-align: middle;\n",
       "    }\n",
       "\n",
       "    .dataframe tbody tr th {\n",
       "        vertical-align: top;\n",
       "    }\n",
       "\n",
       "    .dataframe thead th {\n",
       "        text-align: right;\n",
       "    }\n",
       "</style>\n",
       "<table border=\"1\" class=\"dataframe\">\n",
       "  <thead>\n",
       "    <tr style=\"text-align: right;\">\n",
       "      <th></th>\n",
       "      <th>Country</th>\n",
       "      <th>Continent</th>\n",
       "      <th>Population</th>\n",
       "      <th>Area</th>\n",
       "      <th>Density</th>\n",
       "    </tr>\n",
       "  </thead>\n",
       "  <tbody>\n",
       "    <tr>\n",
       "      <th>112</th>\n",
       "      <td>Serbia</td>\n",
       "      <td>Europe</td>\n",
       "      <td>9396411</td>\n",
       "      <td>88361</td>\n",
       "      <td>106.341157</td>\n",
       "    </tr>\n",
       "    <tr>\n",
       "      <th>113</th>\n",
       "      <td>Azerbaijan</td>\n",
       "      <td>Asia</td>\n",
       "      <td>7961619</td>\n",
       "      <td>86600</td>\n",
       "      <td>91.935554</td>\n",
       "    </tr>\n",
       "    <tr>\n",
       "      <th>114</th>\n",
       "      <td>Austria</td>\n",
       "      <td>Europe</td>\n",
       "      <td>8192880</td>\n",
       "      <td>83870</td>\n",
       "      <td>97.685466</td>\n",
       "    </tr>\n",
       "  </tbody>\n",
       "</table>\n",
       "</div>"
      ],
      "text/plain": [
       "        Country Continent  Population   Area     Density\n",
       "112      Serbia    Europe     9396411  88361  106.341157\n",
       "113  Azerbaijan      Asia     7961619  86600   91.935554\n",
       "114     Austria    Europe     8192880  83870   97.685466"
      ]
     },
     "execution_count": 19,
     "metadata": {},
     "output_type": "execute_result"
    }
   ],
   "source": [
    "sdt=dt.sort_values('Area',ascending=False,ignore_index=True) # sortiramo u opadajućem resoledu\n",
    "sdt[112:115] # izdavajamo redove 112, 113 i 114 pomoću slajsa"
   ]
  },
  {
   "cell_type": "markdown",
   "id": "c20bc4a6-7359-4e7b-ba2a-5a97ef5269fb",
   "metadata": {},
   "source": [
    "Површина типичне државе је 86 600 km² колика је површина Азербејџана. Исту ову вредност смо могли да добијемо помоћу функције `.median()`."
   ]
  },
  {
   "cell_type": "code",
   "execution_count": 20,
   "id": "1018ed2a-34cb-402a-a7cd-025d33751659",
   "metadata": {},
   "outputs": [
    {
     "data": {
      "text/plain": [
       "86600.0"
      ]
     },
     "execution_count": 20,
     "metadata": {},
     "output_type": "execute_result"
    }
   ],
   "source": [
    "dt['Area'].median()"
   ]
  },
  {
   "cell_type": "markdown",
   "id": "d63ff408-3dd1-4925-a6a8-aaf517c172a9",
   "metadata": {},
   "source": [
    "__Медијана__ је математичка функција која нам даје средишњу вредност за низ који је сортиран по величини. Она дели низ на два дела са истим бројем елемената. Ако низ, на пример, садржи висине 101 ученика, медијана нам даје висину 51. највишег ученика. Од њега има 50 виших и 50 нижих, док је он у самој средини. Ако имамо паран број ученика, онда нема ученика који је баш у средини па се медијана рачуна мало другачије: као средња вредност висине првог елемента испод и првог изнад те средине. То значи да је медијана низа од 100 бројева, средња вредност 50. и 51. највеће вредности овог низа. "
   ]
  },
  {
   "cell_type": "markdown",
   "id": "19378514-a4dd-48b0-80d6-29e81d92994b",
   "metadata": {},
   "source": [
    "Трећа помињана мера за карактеристичну вредност је мод. Она говори о томе која се вредност понавља највише пута. Функција која рачуна мод је `.mode()`. Она се, пре свега, примењује за номиналне податке. "
   ]
  },
  {
   "cell_type": "markdown",
   "id": "2343acec-3f82-4f02-ad6c-27cb8e95d539",
   "metadata": {},
   "source": [
    "__Задатак 2__: Одредите медијану броја становника за државе света. Да ли за Србију можемо да кажемо да је типична држава и по овом параметру?"
   ]
  },
  {
   "cell_type": "markdown",
   "id": "e699d50a-3f45-4aee-8e88-003edbfefb30",
   "metadata": {},
   "source": [
    "Приметите како код школских оцена обе мере: и средња вредност и медијана добро карактеришу цео низ оцена. То је зато што су оцене углавном груписане и немају велике екстреме. Међутим, када поредимо средњу вредност и медијану за низ у ком су неке вредности милион пута веће од неких других, ове две мере дају прилично различите вредности."
   ]
  },
  {
   "cell_type": "code",
   "execution_count": 21,
   "id": "62cfbf97-1f19-4821-80ab-18701cc3de4d",
   "metadata": {},
   "outputs": [
    {
     "name": "stdout",
     "output_type": "stream",
     "text": [
      "Средња вредност: 4.333333333333333\n",
      "Медијана: 4.5\n"
     ]
    }
   ],
   "source": [
    "niz_ocena=[5,5,3,4,5,4]\n",
    "serija=pd.Series(niz_ocena)               # lakše je računati kad listu pretvorimo u seriju\n",
    "print('Средња вредност:', serija.mean())  # onda možemo da primenimo pandas funkcije\n",
    "print('Медијана:', serija.median())       # .mean() i .median()"
   ]
  },
  {
   "cell_type": "markdown",
   "id": "81b3a0b1-d8f9-4998-80dc-f9372602fd0b",
   "metadata": {},
   "source": [
    "Екстреме имамо код површине држава и броја становника. Погледајте хистограм држава по површини. Највише је оних малих које видимо као врло висок стубић са леве стране, док су са десне само појединачни случајеви врло ретких великих држава. Не улазећи даље у тумачење података, хоћемо само да покажемо колико средња вредност и медијана могу да се разликују. На графикону доле, црвеном линијом је обележена медијана, а наранџастом средња вредност. Пробајте сами да откријете шта ради која линија у програму."
   ]
  },
  {
   "cell_type": "code",
   "execution_count": 22,
   "id": "fad7bf90-028e-4e3c-92f0-a3fbe45d2206",
   "metadata": {},
   "outputs": [
    {
     "data": {
      "image/png": "[encoded data removed]",
      "text/plain": [
       "<Figure size 432x288 with 1 Axes>"
      ]
     },
     "metadata": {
      "needs_background": "light"
     },
     "output_type": "display_data"
    }
   ],
   "source": [
    "mArea=dt['Area'].mean()\n",
    "mdArea=dt['Area'].median()\n",
    "plt.hist(dt['Area'],40,range=(0,2e6))\n",
    "plt.grid()\n",
    "plt.vlines(mArea,0,100,colors='orange')\n",
    "plt.vlines(mdArea,0,100,colors='red');"
   ]
  },
  {
   "cell_type": "markdown",
   "id": "22cc7352-b1f3-4c97-b74e-1e3c1d571c8f",
   "metadata": {},
   "source": [
    "### Груписање и рачунање статистика за групе"
   ]
  },
  {
   "cell_type": "markdown",
   "id": "38f634fb-899b-4ba6-b978-03aa8688c7b3",
   "metadata": {},
   "source": [
    "За анализе података по групама користимо функцију `groupby()`. У примеру са државама света, можемо да направимо преглед укупне површине или броја становника груписаних по континентима. Аргумент функције је назив колоне по којој групишемо податке."
   ]
  },
  {
   "cell_type": "code",
   "execution_count": 23,
   "id": "78048161-9d52-4733-9dee-5abe6a8105fe",
   "metadata": {},
   "outputs": [],
   "source": [
    "bspk=dt.groupby('Continent')"
   ]
  },
  {
   "cell_type": "markdown",
   "id": "43e5d504-782a-40ac-8021-9dfe3d1586bd",
   "metadata": {},
   "source": [
    "Структура коју добијамо после груписања није _dataframe_ већ сложенији тип податка који није погодан за приказивање на екрану. Када изаберемо податак који групишемо и функцију којом то радимо, онда резултат постаје серија. У примеру који наводимо груписаћемо податке о броју становника тако што ћемо те површине сабрати. За то користимо функцију `.sum()`. Слично бисмо, користећи неке друге функције, могли да нађемо државе са најмањим бројем становника по континентима или средње вредности броја становника."
   ]
  },
  {
   "cell_type": "code",
   "execution_count": 24,
   "id": "741e9e44-9aac-4978-ad24-bc912336d742",
   "metadata": {},
   "outputs": [
    {
     "data": {
      "text/plain": [
       "Continent\n",
       "Africa            910844133\n",
       "Asia             3958768088\n",
       "Europe            727803762\n",
       "North America     331672307\n",
       "Oceania            33131662\n",
       "South America     561824599\n",
       "Name: Population, dtype: int64"
      ]
     },
     "execution_count": 24,
     "metadata": {},
     "output_type": "execute_result"
    }
   ],
   "source": [
    "bspk['Population'].sum()"
   ]
  },
  {
   "cell_type": "markdown",
   "id": "3b211b6f-8521-411d-b100-7c67ed85a4db",
   "metadata": {},
   "source": [
    "__Задатак 3__: Израчунајте колика је средња густина становништва за сваки континент."
   ]
  }
 ],
 "metadata": {
  "kernelspec": {
   "display_name": "Python 3",
   "language": "python",
   "name": "python3"
  },
  "language_info": {
   "codemirror_mode": {
    "name": "ipython",
    "version": 3
   },
   "file_extension": ".py",
   "mimetype": "text/x-python",
   "name": "python",
   "nbconvert_exporter": "python",
   "pygments_lexer": "ipython3",
   "version": "3.9.1"
  }
 },
 "nbformat": 4,
 "nbformat_minor": 5
}
