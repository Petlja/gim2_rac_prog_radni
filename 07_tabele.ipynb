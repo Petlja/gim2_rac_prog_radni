{
 "cells": [
  {
   "cell_type": "markdown",
   "id": "f09e6420-3543-4912-a476-d3fa88a108e1",
   "metadata": {},
   "source": [
    "# Рад са табелама"
   ]
  },
  {
   "cell_type": "markdown",
   "id": "2118e908-e204-4e6f-a930-17f544d7daab",
   "metadata": {},
   "source": [
    "До сада смо обрађивали и анализирали податке смештене у листе и стрингове. Неке функције за рад са њима већ постоје у Пајтоновој стандардној библиотеци, док смо за неке морали да пишемо своје функције. Сада је тренутак да пређемо на следећи ниво – да податке организујемо у табеле. Пракса нам говори да су табеларно сложени подаци најзгоднији за употребу. Базе података све што имају чувају у разним табелама које повезују по одређеним атрибутима или променљивим, како их зовемо у Пајтону. За рад са табелама нам је неопходно да увеземо библиотеку која табелу има као тип података. За ову намену најчешће коришћена библиотека је _pandas_. Она има мноштво функција које ће нам олакшати посао. Неће бити потребе да поново пишемо функције као што су биле оне за средњу вредност или медијану."
   ]
  },
  {
   "cell_type": "markdown",
   "id": "bb422425-cf9c-42fc-a788-b1beb611b61c",
   "metadata": {},
   "source": [
    "## Табеларно представљени подаци"
   ]
  },
  {
   "cell_type": "markdown",
   "id": "1409c7af-8bf4-434b-962a-8142bdd8342e",
   "metadata": {},
   "source": [
    "У овој лекцији ћемо говорити о:\n",
    "1. представљању табеларно задатих података помоћу листи у Пајтону и\n",
    "2. ефикаснијем представљању табеларних података користећи библиотеку pandas."
   ]
  },
  {
   "cell_type": "markdown",
   "id": "ee2cd3de-c59d-4139-ae41-13370ec810f1",
   "metadata": {},
   "source": [
    "### Представљање табеларно задатих података помоћу листи"
   ]
  },
  {
   "cell_type": "markdown",
   "id": "260c97d6-014d-4cb3-8962-8f787efc80e8",
   "metadata": {},
   "source": [
    "Најчешћи начин да организујемо велике количине података је да их представимо табелом. Рецимо, ова табела садржи податке о једној групи деце (при чему је, наравно, старост изражена у годинама, тежина у килограмима, а висина у центиметрима):"
   ]
  },
  {
   "cell_type": "markdown",
   "id": "5f703dcc-3419-4bf5-a5df-d9b58efffeac",
   "metadata": {},
   "source": [
    "|Ime|Pol|Starost|Masa|Visina|\n",
    "|---|---|---|---|---|\n",
    "|Ana|ž|13|46|160|\n",
    "|Bojan|m|14|52|165|\n",
    "|Vlada|m|13|47|157|\n",
    "|Gordana|ž|15|54|165|\n",
    "|Dejan|m|15|56|163|\n",
    "|Đorđe|m|13|45|159|\n",
    "|Elena|ž|14|49|161|\n",
    "|Žaklina|ž|15|52|164|\n",
    "|Zoran|m|15|57|167|\n",
    "|Ivana|ž|13|45|158|\n",
    "|Jasna|ž|14|51|162|"
   ]
  },
  {
   "cell_type": "markdown",
   "id": "b4864669-a755-4465-a2aa-55ba0bdb7c4b",
   "metadata": {},
   "source": [
    "Да бисмо могли машински да обрађујемо и анализирамо податке прво их морамо представити у облику неке структуре података. Један једноставан начин да се то уради је да сваки ред табеле представимо једном листом, и да потом све те листе запакујемо у једну велику листу, рецимо овако:"
   ]
  },
  {
   "cell_type": "code",
   "execution_count": 1,
   "id": "3d645211-103b-4cb9-9635-6a10c6f1c6e5",
   "metadata": {},
   "outputs": [],
   "source": [
    "podaci = [[\"Ana\",     \"ž\", 13, 46, 160],\n",
    "          [\"Bojan\",   \"m\", 14, 52, 165],\n",
    "          [\"Vlada\",   \"m\", 13, 47, 157],\n",
    "          [\"Gordana\", \"ž\", 15, 54, 165],\n",
    "          [\"Dejan\",   \"m\", 15, 56, 163],\n",
    "          [\"Đorđe\",   \"m\", 13, 45, 159],\n",
    "          [\"Elena\",   \"ž\", 14, 49, 161],\n",
    "          [\"Žaklina\", \"ž\", 15, 52, 164],\n",
    "          [\"Zoran\",   \"m\", 15, 57, 167],\n",
    "          [\"Ivana\",   \"ž\", 13, 45, 158],\n",
    "          [\"Jasna\",   \"ž\", 14, 51, 162]]"
   ]
  },
  {
   "cell_type": "markdown",
   "id": "84649ca5-b434-447f-a473-ff418acada5c",
   "metadata": {},
   "source": [
    "Из овако представљених података лако можемо добити податке о сваком појединачном детету у групи. Рецимо, податке о Дејану добијамо тако што испишемо елемент листе са индексом 4."
   ]
  },
  {
   "cell_type": "code",
   "execution_count": 2,
   "id": "66529d2d-7fc5-448f-afeb-d932efd18af1",
   "metadata": {},
   "outputs": [
    {
     "data": {
      "text/plain": [
       "['Dejan', 'm', 15, 56, 163]"
      ]
     },
     "execution_count": 2,
     "metadata": {},
     "output_type": "execute_result"
    }
   ],
   "source": [
    "podaci[4]"
   ]
  },
  {
   "cell_type": "markdown",
   "id": "2f746a2a-23ab-4313-8272-8bc90aed3fd7",
   "metadata": {},
   "source": [
    "Овај начин представљања података, међутим, није погодан за обраде по колонама. Рецимо, ако желимо да израчунамо просечну висину деце у групи морамо да пишемо програм. То није немогуће, чак није ни тешко, али је непрактично. Ево програма:"
   ]
  },
  {
   "cell_type": "code",
   "execution_count": 3,
   "id": "bfd6b599-744b-4153-a4d2-f8b02668bd29",
   "metadata": {},
   "outputs": [
    {
     "data": {
      "text/plain": [
       "161.9090909090909"
      ]
     },
     "execution_count": 3,
     "metadata": {},
     "output_type": "execute_result"
    }
   ],
   "source": [
    "sum = 0              # početna vrednost zbira je 0\n",
    "for dete in podaci:  # za red u tabeli\n",
    "    sum += dete[4]   # zbir povećavamo za vrednost u petoj koloni\n",
    "sum/len(podaci)      # zbir na kraju delimo sa brojem elemenata"
   ]
  },
  {
   "cell_type": "markdown",
   "id": "58020f2c-7107-4b74-adf8-bc16e835b0ba",
   "metadata": {},
   "source": [
    "Програм ради на следећи начин:\n",
    "- прво помоћну променљиву `sum` поставимо на нулу (у њој ће се полако акумулирати збир висина све деце у групи);\n",
    "- након тога циклус `for dete in podaci:` прође кроз свако дете у групи (јер сваки елемент листе `podaci` представља податке о једном детету) и на суму дода његову висину (висина детета се налази на петом месту у групи података за то дете, а то је елемент листе са индексом 4);\n",
    "- коначно, добијени збир поделимо бројем података да бисмо израчунали просек.\n",
    "\n",
    "Као што смо већ рекли, ово није јако тешко, али је непрактично. Треба нам флексибилнија структура података."
   ]
  },
  {
   "cell_type": "markdown",
   "id": "8034aff3-3228-4802-b57c-cce8e11c3ca4",
   "metadata": {},
   "source": [
    "### Библиотека _pandas_, структура података _DataFrame_ и рад са колонама табеле"
   ]
  },
  {
   "cell_type": "markdown",
   "id": "5c139dd9-0e0e-4b3a-b6b6-4a54660533a3",
   "metadata": {},
   "source": [
    "За ефикасно манипулисање табеларно представљеним подацима у Пајтону развијена је библиотека _pandas_. Њу можемо увести као што смо увозили и остале библиотеке (и уз пут ћемо јој дати надимак да бисмо мање морали да куцамо):"
   ]
  },
  {
   "cell_type": "code",
   "execution_count": 4,
   "id": "5e035ae9-8443-480f-bf71-bb1395604278",
   "metadata": {},
   "outputs": [],
   "source": [
    "import pandas as pd"
   ]
  },
  {
   "cell_type": "markdown",
   "id": "5681cca5-8ca4-4e61-9ebe-a822f6c3f5fc",
   "metadata": {},
   "source": [
    "Из ове библиотеке ћемо користити структуру података која се зове _DataFrame_ (енгл. _data_ значи „подаци”, _frame_ значи „оквир”, тако да _DataFrame_ значи „оквир са подацима”, односно „табела”)."
   ]
  },
  {
   "cell_type": "markdown",
   "id": "9cf3dc38-52f5-428d-9d04-489933310330",
   "metadata": {},
   "source": [
    "Податке о деци сада лако можемо да препакујемо у _DataFrame_ позивом функције са истим именом:"
   ]
  },
  {
   "cell_type": "code",
   "execution_count": 5,
   "id": "1ddeeb14-1bb6-496e-a19d-21157acc24ec",
   "metadata": {},
   "outputs": [],
   "source": [
    "tabela = pd.DataFrame(podaci)"
   ]
  },
  {
   "cell_type": "markdown",
   "id": "64c55bbb-b1a1-4c6f-af9c-71aa08ae3da2",
   "metadata": {},
   "source": [
    "Претходна команда није дала никакав излаз. Она је просто препаковала податке наведене у листи `podaci` у нову структуру података. Да бисмо се уверили да се ради само о препакивању, исписаћемо садржај променљиве `tabela`:"
   ]
  },
  {
   "cell_type": "code",
   "execution_count": 6,
   "id": "d850c9bf-7a9c-49cf-99f1-786e93ededa5",
   "metadata": {},
   "outputs": [
    {
     "data": {
      "text/html": [
       "<div>\n",
       "<style scoped>\n",
       "    .dataframe tbody tr th:only-of-type {\n",
       "        vertical-align: middle;\n",
       "    }\n",
       "\n",
       "    .dataframe tbody tr th {\n",
       "        vertical-align: top;\n",
       "    }\n",
       "\n",
       "    .dataframe thead th {\n",
       "        text-align: right;\n",
       "    }\n",
       "</style>\n",
       "<table border=\"1\" class=\"dataframe\">\n",
       "  <thead>\n",
       "    <tr style=\"text-align: right;\">\n",
       "      <th></th>\n",
       "      <th>0</th>\n",
       "      <th>1</th>\n",
       "      <th>2</th>\n",
       "      <th>3</th>\n",
       "      <th>4</th>\n",
       "    </tr>\n",
       "  </thead>\n",
       "  <tbody>\n",
       "    <tr>\n",
       "      <th>0</th>\n",
       "      <td>Ana</td>\n",
       "      <td>ž</td>\n",
       "      <td>13</td>\n",
       "      <td>46</td>\n",
       "      <td>160</td>\n",
       "    </tr>\n",
       "    <tr>\n",
       "      <th>1</th>\n",
       "      <td>Bojan</td>\n",
       "      <td>m</td>\n",
       "      <td>14</td>\n",
       "      <td>52</td>\n",
       "      <td>165</td>\n",
       "    </tr>\n",
       "    <tr>\n",
       "      <th>2</th>\n",
       "      <td>Vlada</td>\n",
       "      <td>m</td>\n",
       "      <td>13</td>\n",
       "      <td>47</td>\n",
       "      <td>157</td>\n",
       "    </tr>\n",
       "    <tr>\n",
       "      <th>3</th>\n",
       "      <td>Gordana</td>\n",
       "      <td>ž</td>\n",
       "      <td>15</td>\n",
       "      <td>54</td>\n",
       "      <td>165</td>\n",
       "    </tr>\n",
       "    <tr>\n",
       "      <th>4</th>\n",
       "      <td>Dejan</td>\n",
       "      <td>m</td>\n",
       "      <td>15</td>\n",
       "      <td>56</td>\n",
       "      <td>163</td>\n",
       "    </tr>\n",
       "    <tr>\n",
       "      <th>5</th>\n",
       "      <td>Đorđe</td>\n",
       "      <td>m</td>\n",
       "      <td>13</td>\n",
       "      <td>45</td>\n",
       "      <td>159</td>\n",
       "    </tr>\n",
       "    <tr>\n",
       "      <th>6</th>\n",
       "      <td>Elena</td>\n",
       "      <td>ž</td>\n",
       "      <td>14</td>\n",
       "      <td>49</td>\n",
       "      <td>161</td>\n",
       "    </tr>\n",
       "    <tr>\n",
       "      <th>7</th>\n",
       "      <td>Žaklina</td>\n",
       "      <td>ž</td>\n",
       "      <td>15</td>\n",
       "      <td>52</td>\n",
       "      <td>164</td>\n",
       "    </tr>\n",
       "    <tr>\n",
       "      <th>8</th>\n",
       "      <td>Zoran</td>\n",
       "      <td>m</td>\n",
       "      <td>15</td>\n",
       "      <td>57</td>\n",
       "      <td>167</td>\n",
       "    </tr>\n",
       "    <tr>\n",
       "      <th>9</th>\n",
       "      <td>Ivana</td>\n",
       "      <td>ž</td>\n",
       "      <td>13</td>\n",
       "      <td>45</td>\n",
       "      <td>158</td>\n",
       "    </tr>\n",
       "    <tr>\n",
       "      <th>10</th>\n",
       "      <td>Jasna</td>\n",
       "      <td>ž</td>\n",
       "      <td>14</td>\n",
       "      <td>51</td>\n",
       "      <td>162</td>\n",
       "    </tr>\n",
       "  </tbody>\n",
       "</table>\n",
       "</div>"
      ],
      "text/plain": [
       "          0  1   2   3    4\n",
       "0       Ana  ž  13  46  160\n",
       "1     Bojan  m  14  52  165\n",
       "2     Vlada  m  13  47  157\n",
       "3   Gordana  ž  15  54  165\n",
       "4     Dejan  m  15  56  163\n",
       "5     Đorđe  m  13  45  159\n",
       "6     Elena  ž  14  49  161\n",
       "7   Žaklina  ž  15  52  164\n",
       "8     Zoran  m  15  57  167\n",
       "9     Ivana  ž  13  45  158\n",
       "10    Jasna  ž  14  51  162"
      ]
     },
     "execution_count": 6,
     "metadata": {},
     "output_type": "execute_result"
    }
   ],
   "source": [
    "tabela"
   ]
  },
  {
   "cell_type": "markdown",
   "id": "9ccaae9e-e78a-4ea7-a03b-85b85e91e847",
   "metadata": {},
   "source": [
    "Ево и кратког видеа:"
   ]
  },
  {
   "cell_type": "markdown",
   "id": "487d210c-47c5-443b-986e-09eb657b95a0",
   "metadata": {},
   "source": [
    "## ..............ovde  nekako ubaciti video iz https://petlja.org/kurs/478/8/1612 ............"
   ]
  },
  {
   "cell_type": "markdown",
   "id": "2deec462-bfe9-404d-90fd-7ceff11b1b78",
   "metadata": {},
   "source": [
    "Да би табела била прегледнија, даћемо колонама називе."
   ]
  },
  {
   "cell_type": "code",
   "execution_count": 7,
   "id": "59fe661d-f590-43ef-adf7-08adc81cf99b",
   "metadata": {},
   "outputs": [
    {
     "data": {
      "text/html": [
       "<div>\n",
       "<style scoped>\n",
       "    .dataframe tbody tr th:only-of-type {\n",
       "        vertical-align: middle;\n",
       "    }\n",
       "\n",
       "    .dataframe tbody tr th {\n",
       "        vertical-align: top;\n",
       "    }\n",
       "\n",
       "    .dataframe thead th {\n",
       "        text-align: right;\n",
       "    }\n",
       "</style>\n",
       "<table border=\"1\" class=\"dataframe\">\n",
       "  <thead>\n",
       "    <tr style=\"text-align: right;\">\n",
       "      <th></th>\n",
       "      <th>Ime</th>\n",
       "      <th>Pol</th>\n",
       "      <th>Starost</th>\n",
       "      <th>Masa</th>\n",
       "      <th>Visina</th>\n",
       "    </tr>\n",
       "  </thead>\n",
       "  <tbody>\n",
       "    <tr>\n",
       "      <th>0</th>\n",
       "      <td>Ana</td>\n",
       "      <td>ž</td>\n",
       "      <td>13</td>\n",
       "      <td>46</td>\n",
       "      <td>160</td>\n",
       "    </tr>\n",
       "    <tr>\n",
       "      <th>1</th>\n",
       "      <td>Bojan</td>\n",
       "      <td>m</td>\n",
       "      <td>14</td>\n",
       "      <td>52</td>\n",
       "      <td>165</td>\n",
       "    </tr>\n",
       "    <tr>\n",
       "      <th>2</th>\n",
       "      <td>Vlada</td>\n",
       "      <td>m</td>\n",
       "      <td>13</td>\n",
       "      <td>47</td>\n",
       "      <td>157</td>\n",
       "    </tr>\n",
       "    <tr>\n",
       "      <th>3</th>\n",
       "      <td>Gordana</td>\n",
       "      <td>ž</td>\n",
       "      <td>15</td>\n",
       "      <td>54</td>\n",
       "      <td>165</td>\n",
       "    </tr>\n",
       "    <tr>\n",
       "      <th>4</th>\n",
       "      <td>Dejan</td>\n",
       "      <td>m</td>\n",
       "      <td>15</td>\n",
       "      <td>56</td>\n",
       "      <td>163</td>\n",
       "    </tr>\n",
       "    <tr>\n",
       "      <th>5</th>\n",
       "      <td>Đorđe</td>\n",
       "      <td>m</td>\n",
       "      <td>13</td>\n",
       "      <td>45</td>\n",
       "      <td>159</td>\n",
       "    </tr>\n",
       "    <tr>\n",
       "      <th>6</th>\n",
       "      <td>Elena</td>\n",
       "      <td>ž</td>\n",
       "      <td>14</td>\n",
       "      <td>49</td>\n",
       "      <td>161</td>\n",
       "    </tr>\n",
       "    <tr>\n",
       "      <th>7</th>\n",
       "      <td>Žaklina</td>\n",
       "      <td>ž</td>\n",
       "      <td>15</td>\n",
       "      <td>52</td>\n",
       "      <td>164</td>\n",
       "    </tr>\n",
       "    <tr>\n",
       "      <th>8</th>\n",
       "      <td>Zoran</td>\n",
       "      <td>m</td>\n",
       "      <td>15</td>\n",
       "      <td>57</td>\n",
       "      <td>167</td>\n",
       "    </tr>\n",
       "    <tr>\n",
       "      <th>9</th>\n",
       "      <td>Ivana</td>\n",
       "      <td>ž</td>\n",
       "      <td>13</td>\n",
       "      <td>45</td>\n",
       "      <td>158</td>\n",
       "    </tr>\n",
       "    <tr>\n",
       "      <th>10</th>\n",
       "      <td>Jasna</td>\n",
       "      <td>ž</td>\n",
       "      <td>14</td>\n",
       "      <td>51</td>\n",
       "      <td>162</td>\n",
       "    </tr>\n",
       "  </tbody>\n",
       "</table>\n",
       "</div>"
      ],
      "text/plain": [
       "        Ime Pol  Starost  Masa  Visina\n",
       "0       Ana   ž       13    46     160\n",
       "1     Bojan   m       14    52     165\n",
       "2     Vlada   m       13    47     157\n",
       "3   Gordana   ž       15    54     165\n",
       "4     Dejan   m       15    56     163\n",
       "5     Đorđe   m       13    45     159\n",
       "6     Elena   ž       14    49     161\n",
       "7   Žaklina   ž       15    52     164\n",
       "8     Zoran   m       15    57     167\n",
       "9     Ivana   ž       13    45     158\n",
       "10    Jasna   ž       14    51     162"
      ]
     },
     "execution_count": 7,
     "metadata": {},
     "output_type": "execute_result"
    }
   ],
   "source": [
    "tabela = pd.DataFrame(podaci)                                # tabelu iz formata liste pretvaramo u DataFrame\n",
    "tabela.columns=[\"Ime\", \"Pol\", \"Starost\", \"Masa\", \"Visina\"]   # kolonama u tabeli pridružujemo nazive\n",
    "tabela"
   ]
  },
  {
   "cell_type": "markdown",
   "id": "ccd3ebf4-d2c3-402a-b47d-82526213b11d",
   "metadata": {},
   "source": [
    "Када свака колона има своје име, можемо да приступимо појединачним колонама:"
   ]
  },
  {
   "cell_type": "code",
   "execution_count": 8,
   "id": "3d137fb3-b34d-4e0a-b32e-5cc952f457fe",
   "metadata": {},
   "outputs": [
    {
     "data": {
      "text/plain": [
       "0         Ana\n",
       "1       Bojan\n",
       "2       Vlada\n",
       "3     Gordana\n",
       "4       Dejan\n",
       "5       Đorđe\n",
       "6       Elena\n",
       "7     Žaklina\n",
       "8       Zoran\n",
       "9       Ivana\n",
       "10      Jasna\n",
       "Name: Ime, dtype: object"
      ]
     },
     "execution_count": 8,
     "metadata": {},
     "output_type": "execute_result"
    }
   ],
   "source": [
    "tabela[\"Ime\"]"
   ]
  },
  {
   "cell_type": "code",
   "execution_count": 9,
   "id": "19bba34e-e4a9-4382-bd7d-97ff7b7966d9",
   "metadata": {},
   "outputs": [
    {
     "data": {
      "text/plain": [
       "0     160\n",
       "1     165\n",
       "2     157\n",
       "3     165\n",
       "4     163\n",
       "5     159\n",
       "6     161\n",
       "7     164\n",
       "8     167\n",
       "9     158\n",
       "10    162\n",
       "Name: Visina, dtype: int64"
      ]
     },
     "execution_count": 9,
     "metadata": {},
     "output_type": "execute_result"
    }
   ],
   "source": [
    "tabela[\"Visina\"]"
   ]
  },
  {
   "cell_type": "markdown",
   "id": "54e3a150-0864-429e-99b1-cfd856a5bb85",
   "metadata": {},
   "source": [
    "Имена свих колона су увек доступна у облику листе овако:"
   ]
  },
  {
   "cell_type": "code",
   "execution_count": 10,
   "id": "2b8994dd-8ed6-4d94-b96a-85b88620711e",
   "metadata": {},
   "outputs": [
    {
     "data": {
      "text/plain": [
       "Index(['Ime', 'Pol', 'Starost', 'Masa', 'Visina'], dtype='object')"
      ]
     },
     "execution_count": 10,
     "metadata": {},
     "output_type": "execute_result"
    }
   ],
   "source": [
    "tabela.columns"
   ]
  },
  {
   "cell_type": "markdown",
   "id": "91c8f2d3-2566-4347-a1cc-dd4bf23526da",
   "metadata": {
    "tags": []
   },
   "source": [
    "### Функције за елементарну анализу табеларних података"
   ]
  },
  {
   "cell_type": "markdown",
   "id": "9129132d-6e8d-4e4c-9006-0b5b45ff80fd",
   "metadata": {},
   "source": [
    "Кад су подаци сложени у _DataFrame_, помоћу следећих функција лако можемо да вршимо елементарну анализу података у табели:\n",
    "- `.sum()` – рачуна збир елемената у колони (сума);\n",
    "- `.mean()` – рачуна средњу вредност елемената у колони;\n",
    "- `.median()` – рачуна медијану елемената у колони;\n",
    "- `.min()` – рачуна најмању вредност у колони (минимум);\n",
    "- `.max()` – рачуна највећу вредност у колони (максимум)."
   ]
  },
  {
   "cell_type": "markdown",
   "id": "2a54ac7c-9efa-491b-a13d-436dfda41d4f",
   "metadata": {},
   "source": [
    "Да видимо како то ради на примеру табеле `tabela`. Конкретно, висину најнижег детета у групи можемо да добијемо са:"
   ]
  },
  {
   "cell_type": "code",
   "execution_count": 11,
   "id": "2b1bb8ac-c315-4335-8486-bfcbc2dfb1c4",
   "metadata": {},
   "outputs": [
    {
     "data": {
      "text/plain": [
       "157"
      ]
     },
     "execution_count": 11,
     "metadata": {},
     "output_type": "execute_result"
    }
   ],
   "source": [
    "tabela[\"Visina\"].min()"
   ]
  },
  {
   "cell_type": "markdown",
   "id": "be7b205c-eea5-4da9-8cd4-efea29adcae4",
   "metadata": {},
   "source": [
    "Колико година има најстарије дете у групи?"
   ]
  },
  {
   "cell_type": "code",
   "execution_count": 12,
   "id": "2adac671-8174-4232-9a4c-475f37f7c664",
   "metadata": {},
   "outputs": [
    {
     "data": {
      "text/plain": [
       "15"
      ]
     },
     "execution_count": 12,
     "metadata": {},
     "output_type": "execute_result"
    }
   ],
   "source": [
    "tabela[\"Starost\"].max()"
   ]
  },
  {
   "cell_type": "markdown",
   "id": "482262e8-7c78-45af-bc76-d102bfc84a81",
   "metadata": {},
   "source": [
    "Средња вредност висине деце у групи је:"
   ]
  },
  {
   "cell_type": "code",
   "execution_count": 13,
   "id": "181bb582-ad8b-4ce1-b2ba-bb8c8c170fe1",
   "metadata": {},
   "outputs": [
    {
     "data": {
      "text/plain": [
       "161.9090909090909"
      ]
     },
     "execution_count": 13,
     "metadata": {},
     "output_type": "execute_result"
    }
   ],
   "source": [
    "tabela[\"Visina\"].mean()"
   ]
  },
  {
   "cell_type": "markdown",
   "id": "d53cae2b-3757-4f0e-a49e-fb3d17eb47d0",
   "metadata": {},
   "source": [
    "Медијална висина:"
   ]
  },
  {
   "cell_type": "code",
   "execution_count": 14,
   "id": "6e743224-589e-4622-bd01-dd1c756f5058",
   "metadata": {},
   "outputs": [
    {
     "data": {
      "text/plain": [
       "162.0"
      ]
     },
     "execution_count": 14,
     "metadata": {},
     "output_type": "execute_result"
    }
   ],
   "source": [
    "tabela[\"Visina\"].median()"
   ]
  },
  {
   "cell_type": "markdown",
   "id": "b5c5eeb7-35d4-4023-bf36-5b60e9b389b1",
   "metadata": {},
   "source": [
    "## Индексирање и транспоновање табеле"
   ]
  },
  {
   "cell_type": "markdown",
   "id": "528cc575-031c-4856-a8b8-4838b0785379",
   "metadata": {},
   "source": [
    "У овој лекцији ћемо говорити о:\n",
    "1. индексирању табеле ради флексибилнијег приступа елементима табеле;\n",
    "2. приступу врстама и појединачним локацијама индексиране табеле;\n",
    "3. рачунању са целим редовима и колонама табеле; и\n",
    "4. транспоновању табеле."
   ]
  },
  {
   "cell_type": "markdown",
   "id": "757254d6-286f-4c8b-91e6-32cd203c16fd",
   "metadata": {},
   "source": [
    "### Индексирање"
   ]
  },
  {
   "cell_type": "markdown",
   "id": "d7c4381d-a37d-4291-892c-4d5408e48094",
   "metadata": {},
   "source": [
    "Видели смо да је рад са колонама табеле веома једноставан.\n",
    "\n",
    "Да бисмо могли да радимо са редовима табеле треба прво да нађемо једну колону чија вредност једнозначно одређује цео ред табеле. На пример, у табели са прошлог часа:"
   ]
  },
  {
   "cell_type": "markdown",
   "id": "28b75272-118c-492c-9e39-895bd6960309",
   "metadata": {},
   "source": [
    "|Ime|Pol|Starost|Masa|Visina|\n",
    "|---|---|---|---|---|\n",
    "|Ana|ž|13|46|160|\n",
    "|Bojan|m|14|52|165|\n",
    "|Vlada|m|13|47|157|\n",
    "|Gordana|ž|15|54|165|\n",
    "|Dejan|m|15|56|163|\n",
    "|Đorđe|m|13|45|159|\n",
    "|Elena|ž|14|49|161|\n",
    "|Žaklina|ž|15|52|164|\n",
    "|Zoran|m|15|57|167|\n",
    "|Ivana|ž|13|45|158|\n",
    "|Jasna|ž|14|51|162|"
   ]
  },
  {
   "cell_type": "markdown",
   "id": "74ac19ee-7e0e-42f0-a45e-7563a117330e",
   "metadata": {},
   "source": [
    "колона „Ime” је таква колона (колона „Visina” није погодна јер имамо двоје деце са висином 165, па када кажемо „дете са висином 165” није јасно о коме се ради; исто тако ни колоне „Pol”, „Starost” и „Masa” нису погодне)."
   ]
  },
  {
   "cell_type": "markdown",
   "id": "84052c28-92ab-43fc-80f7-84aa7dbc9a0c",
   "metadata": {},
   "source": [
    "Таква колона се зове кључ јер је она кључна за приступање редовима табеле. Ако желимо да приступамо елементима табеле по редовима, морамо систему да пријавимо коју колону ћемо користити као кључ. То се постиже позивом функције `set_index` којој проследимо име колоне, а она врати нову табелу „индексирану по датом кључу”:"
   ]
  },
  {
   "cell_type": "code",
   "execution_count": 15,
   "id": "ac74b67a-c735-40b5-bb88-28eeecda4f72",
   "metadata": {},
   "outputs": [],
   "source": [
    "import pandas as pd\n",
    "podaci = [[\"Ana\",     \"ž\", 13, 46, 160],\n",
    "          [\"Bojan\",   \"m\", 14, 52, 165],\n",
    "          [\"Vlada\",   \"m\", 13, 47, 157],\n",
    "          [\"Gordana\", \"ž\", 15, 54, 165],\n",
    "          [\"Dejan\",   \"m\", 15, 56, 163],\n",
    "          [\"Đorđe\",   \"m\", 13, 45, 159],\n",
    "          [\"Elena\",   \"ž\", 14, 49, 161],\n",
    "          [\"Žaklina\", \"ž\", 15, 52, 164],\n",
    "          [\"Zoran\",   \"m\", 15, 57, 167],\n",
    "          [\"Ivana\",   \"ž\", 13, 45, 158],\n",
    "          [\"Jasna\",   \"ž\", 14, 51, 162]]\n",
    "tabela = pd.DataFrame(podaci)\n",
    "tabela.columns=[\"Ime\", \"Pol\", \"Starost\", \"Masa\", \"Visina\"]\n",
    "tabela1=tabela.set_index(\"Ime\")"
   ]
  },
  {
   "cell_type": "markdown",
   "id": "4ef10e5a-72e5-4cdf-b1c6-a90585139b86",
   "metadata": {},
   "source": [
    "Нова табела (`tabela1`) се од старе (`tabela`) разликује само по томе што редови више нису индексирани бројевима (0, 1, 2, …) већ именима деце (Ana, Bojan, Vlada, …). Ево старе (неиндексиране табеле) која има колону „Ime” и чији редови су индексирани бројевима:"
   ]
  },
  {
   "cell_type": "code",
   "execution_count": 16,
   "id": "68bb86ee-2189-4adc-bdf2-0e15d39fd654",
   "metadata": {},
   "outputs": [
    {
     "data": {
      "text/html": [
       "<div>\n",
       "<style scoped>\n",
       "    .dataframe tbody tr th:only-of-type {\n",
       "        vertical-align: middle;\n",
       "    }\n",
       "\n",
       "    .dataframe tbody tr th {\n",
       "        vertical-align: top;\n",
       "    }\n",
       "\n",
       "    .dataframe thead th {\n",
       "        text-align: right;\n",
       "    }\n",
       "</style>\n",
       "<table border=\"1\" class=\"dataframe\">\n",
       "  <thead>\n",
       "    <tr style=\"text-align: right;\">\n",
       "      <th></th>\n",
       "      <th>Ime</th>\n",
       "      <th>Pol</th>\n",
       "      <th>Starost</th>\n",
       "      <th>Masa</th>\n",
       "      <th>Visina</th>\n",
       "    </tr>\n",
       "  </thead>\n",
       "  <tbody>\n",
       "    <tr>\n",
       "      <th>0</th>\n",
       "      <td>Ana</td>\n",
       "      <td>ž</td>\n",
       "      <td>13</td>\n",
       "      <td>46</td>\n",
       "      <td>160</td>\n",
       "    </tr>\n",
       "    <tr>\n",
       "      <th>1</th>\n",
       "      <td>Bojan</td>\n",
       "      <td>m</td>\n",
       "      <td>14</td>\n",
       "      <td>52</td>\n",
       "      <td>165</td>\n",
       "    </tr>\n",
       "    <tr>\n",
       "      <th>2</th>\n",
       "      <td>Vlada</td>\n",
       "      <td>m</td>\n",
       "      <td>13</td>\n",
       "      <td>47</td>\n",
       "      <td>157</td>\n",
       "    </tr>\n",
       "    <tr>\n",
       "      <th>3</th>\n",
       "      <td>Gordana</td>\n",
       "      <td>ž</td>\n",
       "      <td>15</td>\n",
       "      <td>54</td>\n",
       "      <td>165</td>\n",
       "    </tr>\n",
       "    <tr>\n",
       "      <th>4</th>\n",
       "      <td>Dejan</td>\n",
       "      <td>m</td>\n",
       "      <td>15</td>\n",
       "      <td>56</td>\n",
       "      <td>163</td>\n",
       "    </tr>\n",
       "    <tr>\n",
       "      <th>5</th>\n",
       "      <td>Đorđe</td>\n",
       "      <td>m</td>\n",
       "      <td>13</td>\n",
       "      <td>45</td>\n",
       "      <td>159</td>\n",
       "    </tr>\n",
       "    <tr>\n",
       "      <th>6</th>\n",
       "      <td>Elena</td>\n",
       "      <td>ž</td>\n",
       "      <td>14</td>\n",
       "      <td>49</td>\n",
       "      <td>161</td>\n",
       "    </tr>\n",
       "    <tr>\n",
       "      <th>7</th>\n",
       "      <td>Žaklina</td>\n",
       "      <td>ž</td>\n",
       "      <td>15</td>\n",
       "      <td>52</td>\n",
       "      <td>164</td>\n",
       "    </tr>\n",
       "    <tr>\n",
       "      <th>8</th>\n",
       "      <td>Zoran</td>\n",
       "      <td>m</td>\n",
       "      <td>15</td>\n",
       "      <td>57</td>\n",
       "      <td>167</td>\n",
       "    </tr>\n",
       "    <tr>\n",
       "      <th>9</th>\n",
       "      <td>Ivana</td>\n",
       "      <td>ž</td>\n",
       "      <td>13</td>\n",
       "      <td>45</td>\n",
       "      <td>158</td>\n",
       "    </tr>\n",
       "    <tr>\n",
       "      <th>10</th>\n",
       "      <td>Jasna</td>\n",
       "      <td>ž</td>\n",
       "      <td>14</td>\n",
       "      <td>51</td>\n",
       "      <td>162</td>\n",
       "    </tr>\n",
       "  </tbody>\n",
       "</table>\n",
       "</div>"
      ],
      "text/plain": [
       "        Ime Pol  Starost  Masa  Visina\n",
       "0       Ana   ž       13    46     160\n",
       "1     Bojan   m       14    52     165\n",
       "2     Vlada   m       13    47     157\n",
       "3   Gordana   ž       15    54     165\n",
       "4     Dejan   m       15    56     163\n",
       "5     Đorđe   m       13    45     159\n",
       "6     Elena   ž       14    49     161\n",
       "7   Žaklina   ž       15    52     164\n",
       "8     Zoran   m       15    57     167\n",
       "9     Ivana   ž       13    45     158\n",
       "10    Jasna   ž       14    51     162"
      ]
     },
     "execution_count": 16,
     "metadata": {},
     "output_type": "execute_result"
    }
   ],
   "source": [
    "tabela"
   ]
  },
  {
   "cell_type": "markdown",
   "id": "e15a41bd-bf32-45ad-83bd-584e268c0774",
   "metadata": {},
   "source": [
    "А ево и нове табеле у којој су редови индексирани именима деце:"
   ]
  },
  {
   "cell_type": "code",
   "execution_count": 17,
   "id": "c134714a-f056-4a55-974e-bb24b4def479",
   "metadata": {},
   "outputs": [
    {
     "data": {
      "text/html": [
       "<div>\n",
       "<style scoped>\n",
       "    .dataframe tbody tr th:only-of-type {\n",
       "        vertical-align: middle;\n",
       "    }\n",
       "\n",
       "    .dataframe tbody tr th {\n",
       "        vertical-align: top;\n",
       "    }\n",
       "\n",
       "    .dataframe thead th {\n",
       "        text-align: right;\n",
       "    }\n",
       "</style>\n",
       "<table border=\"1\" class=\"dataframe\">\n",
       "  <thead>\n",
       "    <tr style=\"text-align: right;\">\n",
       "      <th></th>\n",
       "      <th>Pol</th>\n",
       "      <th>Starost</th>\n",
       "      <th>Masa</th>\n",
       "      <th>Visina</th>\n",
       "    </tr>\n",
       "    <tr>\n",
       "      <th>Ime</th>\n",
       "      <th></th>\n",
       "      <th></th>\n",
       "      <th></th>\n",
       "      <th></th>\n",
       "    </tr>\n",
       "  </thead>\n",
       "  <tbody>\n",
       "    <tr>\n",
       "      <th>Ana</th>\n",
       "      <td>ž</td>\n",
       "      <td>13</td>\n",
       "      <td>46</td>\n",
       "      <td>160</td>\n",
       "    </tr>\n",
       "    <tr>\n",
       "      <th>Bojan</th>\n",
       "      <td>m</td>\n",
       "      <td>14</td>\n",
       "      <td>52</td>\n",
       "      <td>165</td>\n",
       "    </tr>\n",
       "    <tr>\n",
       "      <th>Vlada</th>\n",
       "      <td>m</td>\n",
       "      <td>13</td>\n",
       "      <td>47</td>\n",
       "      <td>157</td>\n",
       "    </tr>\n",
       "    <tr>\n",
       "      <th>Gordana</th>\n",
       "      <td>ž</td>\n",
       "      <td>15</td>\n",
       "      <td>54</td>\n",
       "      <td>165</td>\n",
       "    </tr>\n",
       "    <tr>\n",
       "      <th>Dejan</th>\n",
       "      <td>m</td>\n",
       "      <td>15</td>\n",
       "      <td>56</td>\n",
       "      <td>163</td>\n",
       "    </tr>\n",
       "    <tr>\n",
       "      <th>Đorđe</th>\n",
       "      <td>m</td>\n",
       "      <td>13</td>\n",
       "      <td>45</td>\n",
       "      <td>159</td>\n",
       "    </tr>\n",
       "    <tr>\n",
       "      <th>Elena</th>\n",
       "      <td>ž</td>\n",
       "      <td>14</td>\n",
       "      <td>49</td>\n",
       "      <td>161</td>\n",
       "    </tr>\n",
       "    <tr>\n",
       "      <th>Žaklina</th>\n",
       "      <td>ž</td>\n",
       "      <td>15</td>\n",
       "      <td>52</td>\n",
       "      <td>164</td>\n",
       "    </tr>\n",
       "    <tr>\n",
       "      <th>Zoran</th>\n",
       "      <td>m</td>\n",
       "      <td>15</td>\n",
       "      <td>57</td>\n",
       "      <td>167</td>\n",
       "    </tr>\n",
       "    <tr>\n",
       "      <th>Ivana</th>\n",
       "      <td>ž</td>\n",
       "      <td>13</td>\n",
       "      <td>45</td>\n",
       "      <td>158</td>\n",
       "    </tr>\n",
       "    <tr>\n",
       "      <th>Jasna</th>\n",
       "      <td>ž</td>\n",
       "      <td>14</td>\n",
       "      <td>51</td>\n",
       "      <td>162</td>\n",
       "    </tr>\n",
       "  </tbody>\n",
       "</table>\n",
       "</div>"
      ],
      "text/plain": [
       "        Pol  Starost  Masa  Visina\n",
       "Ime                               \n",
       "Ana       ž       13    46     160\n",
       "Bojan     m       14    52     165\n",
       "Vlada     m       13    47     157\n",
       "Gordana   ž       15    54     165\n",
       "Dejan     m       15    56     163\n",
       "Đorđe     m       13    45     159\n",
       "Elena     ž       14    49     161\n",
       "Žaklina   ž       15    52     164\n",
       "Zoran     m       15    57     167\n",
       "Ivana     ž       13    45     158\n",
       "Jasna     ž       14    51     162"
      ]
     },
     "execution_count": 17,
     "metadata": {},
     "output_type": "execute_result"
    }
   ],
   "source": [
    "tabela1"
   ]
  },
  {
   "cell_type": "markdown",
   "id": "60e7b499-3340-40bc-980e-5c83beadf7e5",
   "metadata": {},
   "source": [
    "Колона „Ime” је и даље присутна у табели `tabela1`, али има посебан статус. Ако покушамо да јој приступимо као „обичној” колони `tabela1[\"Ime\"]` добићемо грешку. Међутим, она је ту као _индексна колона_:"
   ]
  },
  {
   "cell_type": "code",
   "execution_count": 18,
   "id": "3cf888c7-1977-4db0-bfa0-ecbab6a8d744",
   "metadata": {},
   "outputs": [
    {
     "data": {
      "text/plain": [
       "Index(['Ana', 'Bojan', 'Vlada', 'Gordana', 'Dejan', 'Đorđe', 'Elena',\n",
       "       'Žaklina', 'Zoran', 'Ivana', 'Jasna'],\n",
       "      dtype='object', name='Ime')"
      ]
     },
     "execution_count": 18,
     "metadata": {},
     "output_type": "execute_result"
    }
   ],
   "source": [
    "tabela1.index"
   ]
  },
  {
   "cell_type": "markdown",
   "id": "23521fa1-ab27-427d-a1ef-68d3640a5df2",
   "metadata": {},
   "source": [
    "### Приступ редовима и појединачним ћелијама индексиране табеле"
   ]
  },
  {
   "cell_type": "markdown",
   "id": "8011245e-3352-420a-ac5f-787ce388599d",
   "metadata": {},
   "source": [
    "_DataFrame_ је погодан за рад са колонама табеле. Довољно је да под наводницима наведемо име колоне у угластим заградама иза имена табеле и да ту колону издвојимо, нпр. `tabela1[\"Ime\"]`. Са редовима, тј. врстама табеле то није случај. Одређеном реду табеле не можемо да приступимо без \"аксесора\", посебних функција писаних за објекте типа _DataFrame_, чији су аргументи имена редова/колона или њихови индекси у угластим заградама.\n",
    "Конкретно, помоћу аксесора `.loc[]` можемо да приступамо редовима табеле, као и појединачним ћелијама табеле. Аргумент аксесора `.loc[]` је јединствено име реда које смо навели у индексној колони. Уколико постоје два аргумента, онда се први односи на име реда, а други на име колоне."
   ]
  },
  {
   "cell_type": "markdown",
   "id": "0f91ebf4-4440-458b-9dff-a7c91fafbb31",
   "metadata": {},
   "source": [
    "Податке о појединачним редовима табеле можемо да видимо овако:"
   ]
  },
  {
   "cell_type": "code",
   "execution_count": 19,
   "id": "baa025e8-0335-4d12-b1c0-59df56281d3b",
   "metadata": {},
   "outputs": [
    {
     "data": {
      "text/plain": [
       "Pol          m\n",
       "Starost     15\n",
       "Masa        56\n",
       "Visina     163\n",
       "Name: Dejan, dtype: object"
      ]
     },
     "execution_count": 19,
     "metadata": {},
     "output_type": "execute_result"
    }
   ],
   "source": [
    "tabela1.loc[\"Dejan\"]"
   ]
  },
  {
   "cell_type": "markdown",
   "id": "cc5347b7-d7d8-4d26-9628-ad4930fa8144",
   "metadata": {},
   "source": [
    "Као аргумент аксесора `.loc` можемо да наведемо и распон, и тако ћемо добити одговарајући део табеле:"
   ]
  },
  {
   "cell_type": "code",
   "execution_count": 20,
   "id": "f1936e55-4681-4617-ade2-a549656c052e",
   "metadata": {},
   "outputs": [
    {
     "data": {
      "text/html": [
       "<div>\n",
       "<style scoped>\n",
       "    .dataframe tbody tr th:only-of-type {\n",
       "        vertical-align: middle;\n",
       "    }\n",
       "\n",
       "    .dataframe tbody tr th {\n",
       "        vertical-align: top;\n",
       "    }\n",
       "\n",
       "    .dataframe thead th {\n",
       "        text-align: right;\n",
       "    }\n",
       "</style>\n",
       "<table border=\"1\" class=\"dataframe\">\n",
       "  <thead>\n",
       "    <tr style=\"text-align: right;\">\n",
       "      <th></th>\n",
       "      <th>Pol</th>\n",
       "      <th>Starost</th>\n",
       "      <th>Masa</th>\n",
       "      <th>Visina</th>\n",
       "    </tr>\n",
       "    <tr>\n",
       "      <th>Ime</th>\n",
       "      <th></th>\n",
       "      <th></th>\n",
       "      <th></th>\n",
       "      <th></th>\n",
       "    </tr>\n",
       "  </thead>\n",
       "  <tbody>\n",
       "    <tr>\n",
       "      <th>Dejan</th>\n",
       "      <td>m</td>\n",
       "      <td>15</td>\n",
       "      <td>56</td>\n",
       "      <td>163</td>\n",
       "    </tr>\n",
       "    <tr>\n",
       "      <th>Đorđe</th>\n",
       "      <td>m</td>\n",
       "      <td>13</td>\n",
       "      <td>45</td>\n",
       "      <td>159</td>\n",
       "    </tr>\n",
       "    <tr>\n",
       "      <th>Elena</th>\n",
       "      <td>ž</td>\n",
       "      <td>14</td>\n",
       "      <td>49</td>\n",
       "      <td>161</td>\n",
       "    </tr>\n",
       "    <tr>\n",
       "      <th>Žaklina</th>\n",
       "      <td>ž</td>\n",
       "      <td>15</td>\n",
       "      <td>52</td>\n",
       "      <td>164</td>\n",
       "    </tr>\n",
       "    <tr>\n",
       "      <th>Zoran</th>\n",
       "      <td>m</td>\n",
       "      <td>15</td>\n",
       "      <td>57</td>\n",
       "      <td>167</td>\n",
       "    </tr>\n",
       "  </tbody>\n",
       "</table>\n",
       "</div>"
      ],
      "text/plain": [
       "        Pol  Starost  Masa  Visina\n",
       "Ime                               \n",
       "Dejan     m       15    56     163\n",
       "Đorđe     m       13    45     159\n",
       "Elena     ž       14    49     161\n",
       "Žaklina   ž       15    52     164\n",
       "Zoran     m       15    57     167"
      ]
     },
     "execution_count": 20,
     "metadata": {},
     "output_type": "execute_result"
    }
   ],
   "source": [
    "tabela1.loc[\"Dejan\":\"Zoran\"]"
   ]
  },
  {
   "cell_type": "markdown",
   "id": "62564d86-ccc3-47cb-9869-00b88619defc",
   "metadata": {},
   "source": [
    "Ако као други аргумент аксесора `.loc` наведемо име колоне, рецимо овако `tabela1.loc[\"Dejan\", \"Visina\"]` добићемо информацију о Дејановој висини."
   ]
  },
  {
   "cell_type": "code",
   "execution_count": 21,
   "id": "658a4dc4-5a44-48f4-8ee2-3f0e50bb83f6",
   "metadata": {},
   "outputs": [
    {
     "data": {
      "text/plain": [
       "163"
      ]
     },
     "execution_count": 21,
     "metadata": {},
     "output_type": "execute_result"
    }
   ],
   "source": [
    "tabela1.loc[\"Dejan\", \"Visina\"]"
   ]
  },
  {
   "cell_type": "markdown",
   "id": "5e7386d3-c183-4d6d-a74b-135e52ccf109",
   "metadata": {},
   "source": [
    "Ево како можемо да добијемо информацију о телесној маси и висини неколико деце:"
   ]
  },
  {
   "cell_type": "code",
   "execution_count": 22,
   "id": "d086fdde-c316-4d29-b096-574065e623a8",
   "metadata": {},
   "outputs": [
    {
     "data": {
      "text/html": [
       "<div>\n",
       "<style scoped>\n",
       "    .dataframe tbody tr th:only-of-type {\n",
       "        vertical-align: middle;\n",
       "    }\n",
       "\n",
       "    .dataframe tbody tr th {\n",
       "        vertical-align: top;\n",
       "    }\n",
       "\n",
       "    .dataframe thead th {\n",
       "        text-align: right;\n",
       "    }\n",
       "</style>\n",
       "<table border=\"1\" class=\"dataframe\">\n",
       "  <thead>\n",
       "    <tr style=\"text-align: right;\">\n",
       "      <th></th>\n",
       "      <th>Masa</th>\n",
       "      <th>Visina</th>\n",
       "    </tr>\n",
       "    <tr>\n",
       "      <th>Ime</th>\n",
       "      <th></th>\n",
       "      <th></th>\n",
       "    </tr>\n",
       "  </thead>\n",
       "  <tbody>\n",
       "    <tr>\n",
       "      <th>Dejan</th>\n",
       "      <td>56</td>\n",
       "      <td>163</td>\n",
       "    </tr>\n",
       "    <tr>\n",
       "      <th>Đorđe</th>\n",
       "      <td>45</td>\n",
       "      <td>159</td>\n",
       "    </tr>\n",
       "    <tr>\n",
       "      <th>Elena</th>\n",
       "      <td>49</td>\n",
       "      <td>161</td>\n",
       "    </tr>\n",
       "    <tr>\n",
       "      <th>Žaklina</th>\n",
       "      <td>52</td>\n",
       "      <td>164</td>\n",
       "    </tr>\n",
       "    <tr>\n",
       "      <th>Zoran</th>\n",
       "      <td>57</td>\n",
       "      <td>167</td>\n",
       "    </tr>\n",
       "  </tbody>\n",
       "</table>\n",
       "</div>"
      ],
      "text/plain": [
       "         Masa  Visina\n",
       "Ime                  \n",
       "Dejan      56     163\n",
       "Đorđe      45     159\n",
       "Elena      49     161\n",
       "Žaklina    52     164\n",
       "Zoran      57     167"
      ]
     },
     "execution_count": 22,
     "metadata": {},
     "output_type": "execute_result"
    }
   ],
   "source": [
    "tabela1.loc[\"Dejan\":\"Zoran\", \"Masa\":\"Visina\"]"
   ]
  },
  {
   "cell_type": "markdown",
   "id": "52681406-2078-4552-8165-4923429bb627",
   "metadata": {},
   "source": [
    "Други аксесор, помоћу ког приступамо редовима и појединачним елементима табеле је `.iloc[]`. Аргументи овог аксесора су нумерички индекси редова и колона који, наравно, почињу од нуле. Шта мислите да ће вратити `tabela1.iloc[4]`? Исто што и `tabela1.loc[\"Dejan\"]`."
   ]
  },
  {
   "cell_type": "code",
   "execution_count": 23,
   "id": "8e423934-d5a1-4047-be2b-3e8729c82cb8",
   "metadata": {},
   "outputs": [
    {
     "data": {
      "text/plain": [
       "Pol          m\n",
       "Starost     15\n",
       "Masa        56\n",
       "Visina     163\n",
       "Name: Dejan, dtype: object"
      ]
     },
     "execution_count": 23,
     "metadata": {},
     "output_type": "execute_result"
    }
   ],
   "source": [
    "tabela1.iloc[4]"
   ]
  },
  {
   "cell_type": "markdown",
   "id": "d4eb2a68-2380-4435-8feb-9eeae4f25467",
   "metadata": {},
   "source": [
    "Уколико имамо и други аргумент за `.iloc[]`, аксесор неће вратити цео ред већ само вредност у том реду која одговара колони са наведеним индексом.  "
   ]
  },
  {
   "cell_type": "code",
   "execution_count": 24,
   "id": "b4c2376d-f11a-4e9a-89c4-a109ce25687f",
   "metadata": {},
   "outputs": [
    {
     "data": {
      "text/plain": [
       "163"
      ]
     },
     "execution_count": 24,
     "metadata": {},
     "output_type": "execute_result"
    }
   ],
   "source": [
    "tabela1.iloc[4,3]"
   ]
  },
  {
   "cell_type": "markdown",
   "id": "5b3a9f39-95ea-459c-b668-4e8167bd3421",
   "metadata": {},
   "source": [
    "### Рачун по врстама и колонама табеле"
   ]
  },
  {
   "cell_type": "markdown",
   "id": "35fc140e-09bd-4629-9633-eae99f6092e1",
   "metadata": {},
   "source": [
    "Колико год било унапред дефинисаних функција за анализу података у табели, то је ограничен број. Нама може да затреба нешто другачије. У том случају ће бити потребно да напишемо програм који израчунава тражену вредност. Овде ћемо приказати неке једноставне примере."
   ]
  },
  {
   "cell_type": "markdown",
   "id": "0a2470d5-19b7-48f1-b9fd-d9976f38e638",
   "metadata": {},
   "source": [
    "Кренимо од скупа података о оценама у једном разреду. У ћелији испод дате су оцене неких ученика из Информатике, Енглеског, Математике, Физике, Хемије и Ликовног:"
   ]
  },
  {
   "cell_type": "code",
   "execution_count": 25,
   "id": "b90899b5-5cff-48bf-a4de-c8cb20014baa",
   "metadata": {},
   "outputs": [],
   "source": [
    "razred = [[\"Ana\",     5, 3, 5, 2, 4, 5],\n",
    "          [\"Bojan\",   5, 5, 5, 5, 5, 5],\n",
    "          [\"Vlada\",   4, 5, 3, 4, 5, 4],\n",
    "          [\"Gordana\", 5, 5, 5, 5, 5, 5],\n",
    "          [\"Dejan\",   3, 4, 2, 3, 3, 4],\n",
    "          [\"Đorđe\",   4, 5, 3, 4, 5, 4],\n",
    "          [\"Elena\",   3, 3, 3, 4, 2, 3],\n",
    "          [\"Žaklina\", 5, 5, 4, 5, 4, 5],\n",
    "          [\"Zoran\",   4, 5, 4, 4, 3, 5],\n",
    "          [\"Ivana\",   2, 2, 2, 2, 2, 5],\n",
    "          [\"Jasna\",   3, 4, 5, 4, 5, 5]]"
   ]
  },
  {
   "cell_type": "markdown",
   "id": "b4d98ee5-bf95-4b95-9c48-6e686a6e9027",
   "metadata": {},
   "source": [
    "Сада ћемо од ових података направити табелу чије колоне ће се звати _Ime_, _Informatika_, _Engleski_, _Matematika_, _Fizika_, _Hemija_, _Likovno_ и која ће бити индексирана по колони _Ime_:"
   ]
  },
  {
   "cell_type": "code",
   "execution_count": 26,
   "id": "9a098a60-334f-4113-9316-578b8418bb29",
   "metadata": {},
   "outputs": [
    {
     "data": {
      "text/html": [
       "<div>\n",
       "<style scoped>\n",
       "    .dataframe tbody tr th:only-of-type {\n",
       "        vertical-align: middle;\n",
       "    }\n",
       "\n",
       "    .dataframe tbody tr th {\n",
       "        vertical-align: top;\n",
       "    }\n",
       "\n",
       "    .dataframe thead th {\n",
       "        text-align: right;\n",
       "    }\n",
       "</style>\n",
       "<table border=\"1\" class=\"dataframe\">\n",
       "  <thead>\n",
       "    <tr style=\"text-align: right;\">\n",
       "      <th></th>\n",
       "      <th>Informatika</th>\n",
       "      <th>Engleski</th>\n",
       "      <th>Matematika</th>\n",
       "      <th>Fizika</th>\n",
       "      <th>Hemija</th>\n",
       "      <th>Likovno</th>\n",
       "    </tr>\n",
       "    <tr>\n",
       "      <th>Ime</th>\n",
       "      <th></th>\n",
       "      <th></th>\n",
       "      <th></th>\n",
       "      <th></th>\n",
       "      <th></th>\n",
       "      <th></th>\n",
       "    </tr>\n",
       "  </thead>\n",
       "  <tbody>\n",
       "    <tr>\n",
       "      <th>Ana</th>\n",
       "      <td>5</td>\n",
       "      <td>3</td>\n",
       "      <td>5</td>\n",
       "      <td>2</td>\n",
       "      <td>4</td>\n",
       "      <td>5</td>\n",
       "    </tr>\n",
       "    <tr>\n",
       "      <th>Bojan</th>\n",
       "      <td>5</td>\n",
       "      <td>5</td>\n",
       "      <td>5</td>\n",
       "      <td>5</td>\n",
       "      <td>5</td>\n",
       "      <td>5</td>\n",
       "    </tr>\n",
       "    <tr>\n",
       "      <th>Vlada</th>\n",
       "      <td>4</td>\n",
       "      <td>5</td>\n",
       "      <td>3</td>\n",
       "      <td>4</td>\n",
       "      <td>5</td>\n",
       "      <td>4</td>\n",
       "    </tr>\n",
       "    <tr>\n",
       "      <th>Gordana</th>\n",
       "      <td>5</td>\n",
       "      <td>5</td>\n",
       "      <td>5</td>\n",
       "      <td>5</td>\n",
       "      <td>5</td>\n",
       "      <td>5</td>\n",
       "    </tr>\n",
       "    <tr>\n",
       "      <th>Dejan</th>\n",
       "      <td>3</td>\n",
       "      <td>4</td>\n",
       "      <td>2</td>\n",
       "      <td>3</td>\n",
       "      <td>3</td>\n",
       "      <td>4</td>\n",
       "    </tr>\n",
       "    <tr>\n",
       "      <th>Đorđe</th>\n",
       "      <td>4</td>\n",
       "      <td>5</td>\n",
       "      <td>3</td>\n",
       "      <td>4</td>\n",
       "      <td>5</td>\n",
       "      <td>4</td>\n",
       "    </tr>\n",
       "    <tr>\n",
       "      <th>Elena</th>\n",
       "      <td>3</td>\n",
       "      <td>3</td>\n",
       "      <td>3</td>\n",
       "      <td>4</td>\n",
       "      <td>2</td>\n",
       "      <td>3</td>\n",
       "    </tr>\n",
       "    <tr>\n",
       "      <th>Žaklina</th>\n",
       "      <td>5</td>\n",
       "      <td>5</td>\n",
       "      <td>4</td>\n",
       "      <td>5</td>\n",
       "      <td>4</td>\n",
       "      <td>5</td>\n",
       "    </tr>\n",
       "    <tr>\n",
       "      <th>Zoran</th>\n",
       "      <td>4</td>\n",
       "      <td>5</td>\n",
       "      <td>4</td>\n",
       "      <td>4</td>\n",
       "      <td>3</td>\n",
       "      <td>5</td>\n",
       "    </tr>\n",
       "    <tr>\n",
       "      <th>Ivana</th>\n",
       "      <td>2</td>\n",
       "      <td>2</td>\n",
       "      <td>2</td>\n",
       "      <td>2</td>\n",
       "      <td>2</td>\n",
       "      <td>5</td>\n",
       "    </tr>\n",
       "    <tr>\n",
       "      <th>Jasna</th>\n",
       "      <td>3</td>\n",
       "      <td>4</td>\n",
       "      <td>5</td>\n",
       "      <td>4</td>\n",
       "      <td>5</td>\n",
       "      <td>5</td>\n",
       "    </tr>\n",
       "  </tbody>\n",
       "</table>\n",
       "</div>"
      ],
      "text/plain": [
       "         Informatika  Engleski  Matematika  Fizika  Hemija  Likovno\n",
       "Ime                                                                \n",
       "Ana                5         3           5       2       4        5\n",
       "Bojan              5         5           5       5       5        5\n",
       "Vlada              4         5           3       4       5        4\n",
       "Gordana            5         5           5       5       5        5\n",
       "Dejan              3         4           2       3       3        4\n",
       "Đorđe              4         5           3       4       5        4\n",
       "Elena              3         3           3       4       2        3\n",
       "Žaklina            5         5           4       5       4        5\n",
       "Zoran              4         5           4       4       3        5\n",
       "Ivana              2         2           2       2       2        5\n",
       "Jasna              3         4           5       4       5        5"
      ]
     },
     "execution_count": 26,
     "metadata": {},
     "output_type": "execute_result"
    }
   ],
   "source": [
    "ocene = pd.DataFrame(razred)\n",
    "ocene.columns=[\"Ime\", \"Informatika\", \"Engleski\", \"Matematika\", \"Fizika\", \"Hemija\", \"Likovno\"]\n",
    "ocene1 = ocene.set_index(\"Ime\")\n",
    "ocene1"
   ]
  },
  {
   "cell_type": "markdown",
   "id": "00e5a5e6-60e7-46ab-8f3a-350d80dd6101",
   "metadata": {},
   "source": [
    "Ако желимо да израчунамо средње вредности оцена по предметима, треба на сваку колону ове табеле (осим прве где су имена) да применимо функцију `.mean()`. Листа са именима свих колона табеле `ocene` се добија као `ocene.columns`, па сада само треба да прођемо кроз ову листу и за сваку колону да израчунамо средњу вредност:"
   ]
  },
  {
   "cell_type": "code",
   "execution_count": 27,
   "id": "44d4c026-dda6-49c3-befd-2eb8783383e3",
   "metadata": {},
   "outputs": [
    {
     "name": "stdout",
     "output_type": "stream",
     "text": [
      "Informatika -> 3.91\n",
      "Engleski -> 4.18\n",
      "Matematika -> 3.73\n",
      "Fizika -> 3.82\n",
      "Hemija -> 3.91\n",
      "Likovno -> 4.55\n"
     ]
    }
   ],
   "source": [
    "for predmet in ocene1.columns:\n",
    "    print(predmet, \"->\", round(ocene1[predmet].mean(), 2))"
   ]
  },
  {
   "cell_type": "markdown",
   "id": "ca7f6bca-bb01-45fd-a10c-bfcc2bbf1d8f",
   "metadata": {},
   "source": [
    "Да бисмо израчунали средње вредности оцена за сваког ученика, функцију `.mean()` ћемо применити на врсте табеле које добијамо позивом аксесора `.loc[]`. Погледајмо, прво, како то можемо да урадимо за једног ученика:"
   ]
  },
  {
   "cell_type": "code",
   "execution_count": 28,
   "id": "78fbb75b-b53d-4273-9d5c-38a34a9f4be6",
   "metadata": {},
   "outputs": [
    {
     "name": "stdout",
     "output_type": "stream",
     "text": [
      "Đorđe ima sledeće ocene:\n",
      "Informatika    4\n",
      "Engleski       5\n",
      "Matematika     3\n",
      "Fizika         4\n",
      "Hemija         5\n",
      "Likovno        4\n",
      "Name: Đorđe, dtype: int64\n",
      "Srednja vrednost njegovih ocena je: 4.17\n"
     ]
    }
   ],
   "source": [
    "print(\"Đorđe ima sledeće ocene:\")\n",
    "print(ocene1.loc[\"Đorđe\"])\n",
    "print(\"Srednja vrednost njegovih ocena je:\", \n",
    "      round(ocene1.loc[\"Đorđe\"].mean(), 2))  # računamo sr. vrednost ocena za Đorđa pa zaokružujemo na dve cifre"
   ]
  },
  {
   "cell_type": "markdown",
   "id": "0d30dab6-27b6-4f0c-8f8f-121b9d12989b",
   "metadata": {},
   "source": [
    "Списак свих ученика се налази у индексној колони, па средње вредности за све ученике можемо да израчунамо овако:"
   ]
  },
  {
   "cell_type": "code",
   "execution_count": 29,
   "id": "addcf6c7-8f71-4b94-8d2d-1f9b6d02e593",
   "metadata": {},
   "outputs": [
    {
     "name": "stdout",
     "output_type": "stream",
     "text": [
      "Ana -> 4.0\n",
      "Bojan -> 5.0\n",
      "Vlada -> 4.17\n",
      "Gordana -> 5.0\n",
      "Dejan -> 3.17\n",
      "Đorđe -> 4.17\n",
      "Elena -> 3.0\n",
      "Žaklina -> 4.67\n",
      "Zoran -> 4.17\n",
      "Ivana -> 2.5\n",
      "Jasna -> 4.33\n"
     ]
    }
   ],
   "source": [
    "for ucenik in ocene1.index:\n",
    "    print(ucenik, \"->\", round(ocene1.loc[ucenik].mean(), 2))"
   ]
  },
  {
   "cell_type": "markdown",
   "id": "f17c559b-bc98-46df-81ef-3476470ae8e4",
   "metadata": {},
   "source": [
    "Ево и кратке видео илустрације:"
   ]
  },
  {
   "cell_type": "markdown",
   "id": "eb8dcff7-1b9f-4347-889f-5ff76e160954",
   "metadata": {},
   "source": [
    "## ..............ovde  nekako ubaciti video iz https://petlja.org/kurs/478/9/1615 ............"
   ]
  },
  {
   "cell_type": "markdown",
   "id": "07409a6d-a0d2-497a-af21-203849d37e1f",
   "metadata": {},
   "source": [
    "### Транспоновање табеле"
   ]
  },
  {
   "cell_type": "markdown",
   "id": "d0d59127-1afa-423e-a84b-c6659b529a07",
   "metadata": {},
   "source": [
    "Замена врста и колона табеле се зове транспоновање. Приликом транспоновања имена колона полазне табеле постају индекси нове табеле, док индексна колона полазне табеле одређује имена колона нове табеле:"
   ]
  },
  {
   "cell_type": "markdown",
   "id": "cc1d6895-dbed-4300-857b-90922a752d27",
   "metadata": {},
   "source": [
    "Транспоновање се често користи када табела има мало веома дугачких редова, па је у неким ситуацијама лакше посматрати транспоновану табелу која онда има пуно релативно кратких редова. Функције `.head()` и `.tail()` нам тада омогућују да се брзо упознамо са почетком и крајем табеле и да стекнемо неку интуицију о томе како табела изгледа."
   ]
  },
  {
   "cell_type": "markdown",
   "id": "98f624c9-8070-4581-ac33-33d3c9cff994",
   "metadata": {},
   "source": [
    "Важно је рећи и то да се са табелама може радити и без транспоновања, јер све што можемо да урадимо на колонама табеле можемо да урадимо и на врстама. И поред тога, транспоновање се често користи јер је библиотека _pandas_ оптимизована за рад по колонама табеле."
   ]
  },
  {
   "cell_type": "markdown",
   "id": "ca196478-e2ea-4880-8e2a-e88602609d1e",
   "metadata": {},
   "source": [
    "Табела се транспонује тако што се на њу примени функција `.Т` која као резултат враћа нову, транспоновану табелу."
   ]
  },
  {
   "cell_type": "markdown",
   "id": "9c035d1b-0f08-48dc-a6c7-8958ab18c587",
   "metadata": {},
   "source": [
    "Ево примера са оценама:"
   ]
  },
  {
   "cell_type": "code",
   "execution_count": 30,
   "id": "08386dc8-ee90-4ce3-b39a-604419b3d310",
   "metadata": {},
   "outputs": [
    {
     "data": {
      "text/html": [
       "<div>\n",
       "<style scoped>\n",
       "    .dataframe tbody tr th:only-of-type {\n",
       "        vertical-align: middle;\n",
       "    }\n",
       "\n",
       "    .dataframe tbody tr th {\n",
       "        vertical-align: top;\n",
       "    }\n",
       "\n",
       "    .dataframe thead th {\n",
       "        text-align: right;\n",
       "    }\n",
       "</style>\n",
       "<table border=\"1\" class=\"dataframe\">\n",
       "  <thead>\n",
       "    <tr style=\"text-align: right;\">\n",
       "      <th></th>\n",
       "      <th>Informatika</th>\n",
       "      <th>Engleski</th>\n",
       "      <th>Matematika</th>\n",
       "      <th>Fizika</th>\n",
       "      <th>Hemija</th>\n",
       "      <th>Likovno</th>\n",
       "    </tr>\n",
       "    <tr>\n",
       "      <th>Ime</th>\n",
       "      <th></th>\n",
       "      <th></th>\n",
       "      <th></th>\n",
       "      <th></th>\n",
       "      <th></th>\n",
       "      <th></th>\n",
       "    </tr>\n",
       "  </thead>\n",
       "  <tbody>\n",
       "    <tr>\n",
       "      <th>Ana</th>\n",
       "      <td>5</td>\n",
       "      <td>3</td>\n",
       "      <td>5</td>\n",
       "      <td>2</td>\n",
       "      <td>4</td>\n",
       "      <td>5</td>\n",
       "    </tr>\n",
       "    <tr>\n",
       "      <th>Bojan</th>\n",
       "      <td>5</td>\n",
       "      <td>5</td>\n",
       "      <td>5</td>\n",
       "      <td>5</td>\n",
       "      <td>5</td>\n",
       "      <td>5</td>\n",
       "    </tr>\n",
       "    <tr>\n",
       "      <th>Vlada</th>\n",
       "      <td>4</td>\n",
       "      <td>5</td>\n",
       "      <td>3</td>\n",
       "      <td>4</td>\n",
       "      <td>5</td>\n",
       "      <td>4</td>\n",
       "    </tr>\n",
       "    <tr>\n",
       "      <th>Gordana</th>\n",
       "      <td>5</td>\n",
       "      <td>5</td>\n",
       "      <td>5</td>\n",
       "      <td>5</td>\n",
       "      <td>5</td>\n",
       "      <td>5</td>\n",
       "    </tr>\n",
       "    <tr>\n",
       "      <th>Dejan</th>\n",
       "      <td>3</td>\n",
       "      <td>4</td>\n",
       "      <td>2</td>\n",
       "      <td>3</td>\n",
       "      <td>3</td>\n",
       "      <td>4</td>\n",
       "    </tr>\n",
       "    <tr>\n",
       "      <th>Đorđe</th>\n",
       "      <td>4</td>\n",
       "      <td>5</td>\n",
       "      <td>3</td>\n",
       "      <td>4</td>\n",
       "      <td>5</td>\n",
       "      <td>4</td>\n",
       "    </tr>\n",
       "    <tr>\n",
       "      <th>Elena</th>\n",
       "      <td>3</td>\n",
       "      <td>3</td>\n",
       "      <td>3</td>\n",
       "      <td>4</td>\n",
       "      <td>2</td>\n",
       "      <td>3</td>\n",
       "    </tr>\n",
       "    <tr>\n",
       "      <th>Žaklina</th>\n",
       "      <td>5</td>\n",
       "      <td>5</td>\n",
       "      <td>4</td>\n",
       "      <td>5</td>\n",
       "      <td>4</td>\n",
       "      <td>5</td>\n",
       "    </tr>\n",
       "    <tr>\n",
       "      <th>Zoran</th>\n",
       "      <td>4</td>\n",
       "      <td>5</td>\n",
       "      <td>4</td>\n",
       "      <td>4</td>\n",
       "      <td>3</td>\n",
       "      <td>5</td>\n",
       "    </tr>\n",
       "    <tr>\n",
       "      <th>Ivana</th>\n",
       "      <td>2</td>\n",
       "      <td>2</td>\n",
       "      <td>2</td>\n",
       "      <td>2</td>\n",
       "      <td>2</td>\n",
       "      <td>5</td>\n",
       "    </tr>\n",
       "    <tr>\n",
       "      <th>Jasna</th>\n",
       "      <td>3</td>\n",
       "      <td>4</td>\n",
       "      <td>5</td>\n",
       "      <td>4</td>\n",
       "      <td>5</td>\n",
       "      <td>5</td>\n",
       "    </tr>\n",
       "  </tbody>\n",
       "</table>\n",
       "</div>"
      ],
      "text/plain": [
       "         Informatika  Engleski  Matematika  Fizika  Hemija  Likovno\n",
       "Ime                                                                \n",
       "Ana                5         3           5       2       4        5\n",
       "Bojan              5         5           5       5       5        5\n",
       "Vlada              4         5           3       4       5        4\n",
       "Gordana            5         5           5       5       5        5\n",
       "Dejan              3         4           2       3       3        4\n",
       "Đorđe              4         5           3       4       5        4\n",
       "Elena              3         3           3       4       2        3\n",
       "Žaklina            5         5           4       5       4        5\n",
       "Zoran              4         5           4       4       3        5\n",
       "Ivana              2         2           2       2       2        5\n",
       "Jasna              3         4           5       4       5        5"
      ]
     },
     "execution_count": 30,
     "metadata": {},
     "output_type": "execute_result"
    }
   ],
   "source": [
    "ocene1"
   ]
  },
  {
   "cell_type": "markdown",
   "id": "5130d98b-0e6c-45c5-9c15-992dde0696cf",
   "metadata": {},
   "source": [
    "Транспоновану табелу добијамо овако:"
   ]
  },
  {
   "cell_type": "code",
   "execution_count": 31,
   "id": "8d6c5c95-b83f-4add-a539-6cff83b319d9",
   "metadata": {},
   "outputs": [],
   "source": [
    "ocene2 = ocene1.T"
   ]
  },
  {
   "cell_type": "code",
   "execution_count": 32,
   "id": "90b1a4c0-acd0-4c8c-a375-b526484f9549",
   "metadata": {},
   "outputs": [
    {
     "data": {
      "text/html": [
       "<div>\n",
       "<style scoped>\n",
       "    .dataframe tbody tr th:only-of-type {\n",
       "        vertical-align: middle;\n",
       "    }\n",
       "\n",
       "    .dataframe tbody tr th {\n",
       "        vertical-align: top;\n",
       "    }\n",
       "\n",
       "    .dataframe thead th {\n",
       "        text-align: right;\n",
       "    }\n",
       "</style>\n",
       "<table border=\"1\" class=\"dataframe\">\n",
       "  <thead>\n",
       "    <tr style=\"text-align: right;\">\n",
       "      <th>Ime</th>\n",
       "      <th>Ana</th>\n",
       "      <th>Bojan</th>\n",
       "      <th>Vlada</th>\n",
       "      <th>Gordana</th>\n",
       "      <th>Dejan</th>\n",
       "      <th>Đorđe</th>\n",
       "      <th>Elena</th>\n",
       "      <th>Žaklina</th>\n",
       "      <th>Zoran</th>\n",
       "      <th>Ivana</th>\n",
       "      <th>Jasna</th>\n",
       "    </tr>\n",
       "  </thead>\n",
       "  <tbody>\n",
       "    <tr>\n",
       "      <th>Informatika</th>\n",
       "      <td>5</td>\n",
       "      <td>5</td>\n",
       "      <td>4</td>\n",
       "      <td>5</td>\n",
       "      <td>3</td>\n",
       "      <td>4</td>\n",
       "      <td>3</td>\n",
       "      <td>5</td>\n",
       "      <td>4</td>\n",
       "      <td>2</td>\n",
       "      <td>3</td>\n",
       "    </tr>\n",
       "    <tr>\n",
       "      <th>Engleski</th>\n",
       "      <td>3</td>\n",
       "      <td>5</td>\n",
       "      <td>5</td>\n",
       "      <td>5</td>\n",
       "      <td>4</td>\n",
       "      <td>5</td>\n",
       "      <td>3</td>\n",
       "      <td>5</td>\n",
       "      <td>5</td>\n",
       "      <td>2</td>\n",
       "      <td>4</td>\n",
       "    </tr>\n",
       "    <tr>\n",
       "      <th>Matematika</th>\n",
       "      <td>5</td>\n",
       "      <td>5</td>\n",
       "      <td>3</td>\n",
       "      <td>5</td>\n",
       "      <td>2</td>\n",
       "      <td>3</td>\n",
       "      <td>3</td>\n",
       "      <td>4</td>\n",
       "      <td>4</td>\n",
       "      <td>2</td>\n",
       "      <td>5</td>\n",
       "    </tr>\n",
       "    <tr>\n",
       "      <th>Fizika</th>\n",
       "      <td>2</td>\n",
       "      <td>5</td>\n",
       "      <td>4</td>\n",
       "      <td>5</td>\n",
       "      <td>3</td>\n",
       "      <td>4</td>\n",
       "      <td>4</td>\n",
       "      <td>5</td>\n",
       "      <td>4</td>\n",
       "      <td>2</td>\n",
       "      <td>4</td>\n",
       "    </tr>\n",
       "    <tr>\n",
       "      <th>Hemija</th>\n",
       "      <td>4</td>\n",
       "      <td>5</td>\n",
       "      <td>5</td>\n",
       "      <td>5</td>\n",
       "      <td>3</td>\n",
       "      <td>5</td>\n",
       "      <td>2</td>\n",
       "      <td>4</td>\n",
       "      <td>3</td>\n",
       "      <td>2</td>\n",
       "      <td>5</td>\n",
       "    </tr>\n",
       "    <tr>\n",
       "      <th>Likovno</th>\n",
       "      <td>5</td>\n",
       "      <td>5</td>\n",
       "      <td>4</td>\n",
       "      <td>5</td>\n",
       "      <td>4</td>\n",
       "      <td>4</td>\n",
       "      <td>3</td>\n",
       "      <td>5</td>\n",
       "      <td>5</td>\n",
       "      <td>5</td>\n",
       "      <td>5</td>\n",
       "    </tr>\n",
       "  </tbody>\n",
       "</table>\n",
       "</div>"
      ],
      "text/plain": [
       "Ime          Ana  Bojan  Vlada  Gordana  Dejan  Đorđe  Elena  Žaklina  Zoran  \\\n",
       "Informatika    5      5      4        5      3      4      3        5      4   \n",
       "Engleski       3      5      5        5      4      5      3        5      5   \n",
       "Matematika     5      5      3        5      2      3      3        4      4   \n",
       "Fizika         2      5      4        5      3      4      4        5      4   \n",
       "Hemija         4      5      5        5      3      5      2        4      3   \n",
       "Likovno        5      5      4        5      4      4      3        5      5   \n",
       "\n",
       "Ime          Ivana  Jasna  \n",
       "Informatika      2      3  \n",
       "Engleski         2      4  \n",
       "Matematika       2      5  \n",
       "Fizika           2      4  \n",
       "Hemija           2      5  \n",
       "Likovno          5      5  "
      ]
     },
     "execution_count": 32,
     "metadata": {},
     "output_type": "execute_result"
    }
   ],
   "source": [
    "ocene2"
   ]
  },
  {
   "cell_type": "markdown",
   "id": "2b5775b3-efb1-42ae-938d-929a1cfd7e21",
   "metadata": {},
   "source": [
    "Хајде још да се уверимо да су врсте и колоне замениле места и у пољима `index` и `columns`. У полазној табели је:"
   ]
  },
  {
   "cell_type": "code",
   "execution_count": 33,
   "id": "fa644ca3-520b-448e-8bc0-84c60b02d681",
   "metadata": {},
   "outputs": [
    {
     "data": {
      "text/plain": [
       "Index(['Ana', 'Bojan', 'Vlada', 'Gordana', 'Dejan', 'Đorđe', 'Elena',\n",
       "       'Žaklina', 'Zoran', 'Ivana', 'Jasna'],\n",
       "      dtype='object', name='Ime')"
      ]
     },
     "execution_count": 33,
     "metadata": {},
     "output_type": "execute_result"
    }
   ],
   "source": [
    "ocene1.index"
   ]
  },
  {
   "cell_type": "code",
   "execution_count": 34,
   "id": "e6d08014-1e53-4683-b427-5d663487e528",
   "metadata": {},
   "outputs": [
    {
     "data": {
      "text/plain": [
       "Index(['Informatika', 'Engleski', 'Matematika', 'Fizika', 'Hemija', 'Likovno'], dtype='object')"
      ]
     },
     "execution_count": 34,
     "metadata": {},
     "output_type": "execute_result"
    }
   ],
   "source": [
    "ocene1.columns"
   ]
  },
  {
   "cell_type": "markdown",
   "id": "583f9267-bb7d-47d4-bded-0e82171ccb88",
   "metadata": {},
   "source": [
    "У транспонованој табели је:"
   ]
  },
  {
   "cell_type": "code",
   "execution_count": 35,
   "id": "2a8356a3-d66d-42e7-968a-1f2a3ee47b3d",
   "metadata": {},
   "outputs": [
    {
     "data": {
      "text/plain": [
       "Index(['Informatika', 'Engleski', 'Matematika', 'Fizika', 'Hemija', 'Likovno'], dtype='object')"
      ]
     },
     "execution_count": 35,
     "metadata": {},
     "output_type": "execute_result"
    }
   ],
   "source": [
    "ocene2.index"
   ]
  },
  {
   "cell_type": "code",
   "execution_count": 36,
   "id": "a1b39afc-946c-4bd4-a432-98557ad0f99f",
   "metadata": {},
   "outputs": [
    {
     "data": {
      "text/plain": [
       "Index(['Ana', 'Bojan', 'Vlada', 'Gordana', 'Dejan', 'Đorđe', 'Elena',\n",
       "       'Žaklina', 'Zoran', 'Ivana', 'Jasna'],\n",
       "      dtype='object', name='Ime')"
      ]
     },
     "execution_count": 36,
     "metadata": {},
     "output_type": "execute_result"
    }
   ],
   "source": [
    "ocene2.columns"
   ]
  },
  {
   "cell_type": "markdown",
   "id": "7b7097b8-dcdb-4e06-bb33-7e45c0ce9fdd",
   "metadata": {},
   "source": [
    "Како смо раније већ видели, просек оцена по предметима добијамо лако:"
   ]
  },
  {
   "cell_type": "code",
   "execution_count": 37,
   "id": "c02467b3-172d-4b84-81a3-05d42ebeffd6",
   "metadata": {},
   "outputs": [
    {
     "name": "stdout",
     "output_type": "stream",
     "text": [
      "Informatika -> 3.91\n",
      "Engleski -> 4.18\n",
      "Matematika -> 3.73\n",
      "Fizika -> 3.82\n",
      "Hemija -> 3.91\n",
      "Likovno -> 4.55\n"
     ]
    }
   ],
   "source": [
    "for predmet in ocene1.columns:\n",
    "    print(predmet, \"->\", round(ocene1[predmet].mean(), 2))"
   ]
  },
  {
   "cell_type": "markdown",
   "id": "e941b5eb-888a-4613-a800-4b0534e59af3",
   "metadata": {},
   "source": [
    "Да бисмо добили просек оцена по ученицима, можемо да приступимо врстама табеле користећи аксесор `.loc` како смо то већ видели, али можемо и да употребимо транспоновану табелу (рачунање просека по колонама, јер су колоне транспоноване табеле заправо врсте полазне табеле):"
   ]
  },
  {
   "cell_type": "code",
   "execution_count": 38,
   "id": "ba22a508-8ea6-49c4-b175-b8e6d3b90390",
   "metadata": {},
   "outputs": [
    {
     "name": "stdout",
     "output_type": "stream",
     "text": [
      "Ana -> 4.0\n",
      "Bojan -> 5.0\n",
      "Vlada -> 4.17\n",
      "Gordana -> 5.0\n",
      "Dejan -> 3.17\n",
      "Đorđe -> 4.17\n",
      "Elena -> 3.0\n",
      "Žaklina -> 4.67\n",
      "Zoran -> 4.17\n",
      "Ivana -> 2.5\n",
      "Jasna -> 4.33\n"
     ]
    }
   ],
   "source": [
    "for ucenik in ocene2.columns:\n",
    "    print(ucenik, \"->\", round(ocene2[ucenik].mean(), 2))"
   ]
  },
  {
   "cell_type": "markdown",
   "id": "8333e7cb-c76a-4eeb-b5c7-31f0c16d6a39",
   "metadata": {},
   "source": [
    "### Задаци"
   ]
  },
  {
   "cell_type": "markdown",
   "id": "98e41e2d-ba23-4e6c-a3eb-a36a7ec28730",
   "metadata": {},
   "source": [
    "За вежбу покрени Џупитер окружење и реши задатке из радне свеске J07.ipynb"
   ]
  }
 ],
 "metadata": {
  "kernelspec": {
   "display_name": "Python 3",
   "language": "python",
   "name": "python3"
  },
  "language_info": {
   "codemirror_mode": {
    "name": "ipython",
    "version": 3
   },
   "file_extension": ".py",
   "mimetype": "text/x-python",
   "name": "python",
   "nbconvert_exporter": "python",
   "pygments_lexer": "ipython3",
   "version": "3.9.1"
  }
 },
 "nbformat": 4,
 "nbformat_minor": 5
}
